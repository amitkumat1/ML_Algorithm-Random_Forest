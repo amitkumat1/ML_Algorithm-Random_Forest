{
  "cells": [
    {
      "cell_type": "code",
      "execution_count": 1,
      "id": "5b0491f1",
      "metadata": {
        "id": "5b0491f1"
      },
      "outputs": [],
      "source": [
        "import pandas as pd\n",
        "import numpy as np\n",
        "from sklearn.ensemble import RandomForestClassifier\n",
        "from sklearn.model_selection import train_test_split\n",
        "from sklearn.metrics import accuracy_score,confusion_matrix, classification_report\n",
        "# ensemble --> Combination"
      ]
    },
    {
      "cell_type": "code",
      "source": [
        "from google.colab import drive\n",
        "drive.mount('/content/drive')"
      ],
      "metadata": {
        "colab": {
          "base_uri": "https://localhost:8080/"
        },
        "id": "VfKPNR0sCBHs",
        "outputId": "3897f032-a527-4723-c6ff-65a7eb3a4b07"
      },
      "id": "VfKPNR0sCBHs",
      "execution_count": 2,
      "outputs": [
        {
          "output_type": "stream",
          "name": "stdout",
          "text": [
            "Mounted at /content/drive\n"
          ]
        }
      ]
    },
    {
      "cell_type": "code",
      "execution_count": 3,
      "id": "1f2d2827",
      "metadata": {
        "id": "1f2d2827"
      },
      "outputs": [],
      "source": [
        "churn_data=pd.read_csv('/content/drive/MyDrive/Python_Intellipaat/python programming/customer_churn.csv')\n",
        "# churn --> Whether the customer has stopped using the services of the telecom company or not."
      ]
    },
    {
      "cell_type": "code",
      "execution_count": 4,
      "id": "8ffe4286",
      "metadata": {
        "id": "8ffe4286"
      },
      "outputs": [],
      "source": [
        "# EDA --> Exploratory Data Analysis (To understand the data)\n",
        "# Dividing the data into x and y\n",
        "# Splitting the data in train and test\n",
        "# Build a model\n",
        "# Train the model\n",
        "# Test the model\n",
        "# Accuracy score\n",
        "# Confusion Matrix\n",
        "# Classification Report"
      ]
    },
    {
      "cell_type": "code",
      "execution_count": null,
      "id": "77acb2ce",
      "metadata": {
        "id": "77acb2ce",
        "outputId": "a0421c26-bce7-4012-b650-5bfb9bd15c9e"
      },
      "outputs": [
        {
          "data": {
            "text/html": [
              "<div>\n",
              "<style scoped>\n",
              "    .dataframe tbody tr th:only-of-type {\n",
              "        vertical-align: middle;\n",
              "    }\n",
              "\n",
              "    .dataframe tbody tr th {\n",
              "        vertical-align: top;\n",
              "    }\n",
              "\n",
              "    .dataframe thead th {\n",
              "        text-align: right;\n",
              "    }\n",
              "</style>\n",
              "<table border=\"1\" class=\"dataframe\">\n",
              "  <thead>\n",
              "    <tr style=\"text-align: right;\">\n",
              "      <th></th>\n",
              "      <th>customerID</th>\n",
              "      <th>gender</th>\n",
              "      <th>SeniorCitizen</th>\n",
              "      <th>Partner</th>\n",
              "      <th>Dependents</th>\n",
              "      <th>tenure</th>\n",
              "      <th>PhoneService</th>\n",
              "      <th>MultipleLines</th>\n",
              "      <th>InternetService</th>\n",
              "      <th>OnlineSecurity</th>\n",
              "      <th>...</th>\n",
              "      <th>DeviceProtection</th>\n",
              "      <th>TechSupport</th>\n",
              "      <th>StreamingTV</th>\n",
              "      <th>StreamingMovies</th>\n",
              "      <th>Contract</th>\n",
              "      <th>PaperlessBilling</th>\n",
              "      <th>PaymentMethod</th>\n",
              "      <th>MonthlyCharges</th>\n",
              "      <th>TotalCharges</th>\n",
              "      <th>Churn</th>\n",
              "    </tr>\n",
              "  </thead>\n",
              "  <tbody>\n",
              "    <tr>\n",
              "      <th>0</th>\n",
              "      <td>7590-VHVEG</td>\n",
              "      <td>Female</td>\n",
              "      <td>0</td>\n",
              "      <td>Yes</td>\n",
              "      <td>No</td>\n",
              "      <td>1</td>\n",
              "      <td>No</td>\n",
              "      <td>No phone service</td>\n",
              "      <td>DSL</td>\n",
              "      <td>No</td>\n",
              "      <td>...</td>\n",
              "      <td>No</td>\n",
              "      <td>No</td>\n",
              "      <td>No</td>\n",
              "      <td>No</td>\n",
              "      <td>Month-to-month</td>\n",
              "      <td>Yes</td>\n",
              "      <td>Electronic check</td>\n",
              "      <td>29.85</td>\n",
              "      <td>29.85</td>\n",
              "      <td>No</td>\n",
              "    </tr>\n",
              "    <tr>\n",
              "      <th>1</th>\n",
              "      <td>5575-GNVDE</td>\n",
              "      <td>Male</td>\n",
              "      <td>0</td>\n",
              "      <td>No</td>\n",
              "      <td>No</td>\n",
              "      <td>34</td>\n",
              "      <td>Yes</td>\n",
              "      <td>No</td>\n",
              "      <td>DSL</td>\n",
              "      <td>Yes</td>\n",
              "      <td>...</td>\n",
              "      <td>Yes</td>\n",
              "      <td>No</td>\n",
              "      <td>No</td>\n",
              "      <td>No</td>\n",
              "      <td>One year</td>\n",
              "      <td>No</td>\n",
              "      <td>Mailed check</td>\n",
              "      <td>56.95</td>\n",
              "      <td>1889.5</td>\n",
              "      <td>No</td>\n",
              "    </tr>\n",
              "    <tr>\n",
              "      <th>2</th>\n",
              "      <td>3668-QPYBK</td>\n",
              "      <td>Male</td>\n",
              "      <td>0</td>\n",
              "      <td>No</td>\n",
              "      <td>No</td>\n",
              "      <td>2</td>\n",
              "      <td>Yes</td>\n",
              "      <td>No</td>\n",
              "      <td>DSL</td>\n",
              "      <td>Yes</td>\n",
              "      <td>...</td>\n",
              "      <td>No</td>\n",
              "      <td>No</td>\n",
              "      <td>No</td>\n",
              "      <td>No</td>\n",
              "      <td>Month-to-month</td>\n",
              "      <td>Yes</td>\n",
              "      <td>Mailed check</td>\n",
              "      <td>53.85</td>\n",
              "      <td>108.15</td>\n",
              "      <td>Yes</td>\n",
              "    </tr>\n",
              "    <tr>\n",
              "      <th>3</th>\n",
              "      <td>7795-CFOCW</td>\n",
              "      <td>Male</td>\n",
              "      <td>0</td>\n",
              "      <td>No</td>\n",
              "      <td>No</td>\n",
              "      <td>45</td>\n",
              "      <td>No</td>\n",
              "      <td>No phone service</td>\n",
              "      <td>DSL</td>\n",
              "      <td>Yes</td>\n",
              "      <td>...</td>\n",
              "      <td>Yes</td>\n",
              "      <td>Yes</td>\n",
              "      <td>No</td>\n",
              "      <td>No</td>\n",
              "      <td>One year</td>\n",
              "      <td>No</td>\n",
              "      <td>Bank transfer (automatic)</td>\n",
              "      <td>42.30</td>\n",
              "      <td>1840.75</td>\n",
              "      <td>No</td>\n",
              "    </tr>\n",
              "    <tr>\n",
              "      <th>4</th>\n",
              "      <td>9237-HQITU</td>\n",
              "      <td>Female</td>\n",
              "      <td>0</td>\n",
              "      <td>No</td>\n",
              "      <td>No</td>\n",
              "      <td>2</td>\n",
              "      <td>Yes</td>\n",
              "      <td>No</td>\n",
              "      <td>Fiber optic</td>\n",
              "      <td>No</td>\n",
              "      <td>...</td>\n",
              "      <td>No</td>\n",
              "      <td>No</td>\n",
              "      <td>No</td>\n",
              "      <td>No</td>\n",
              "      <td>Month-to-month</td>\n",
              "      <td>Yes</td>\n",
              "      <td>Electronic check</td>\n",
              "      <td>70.70</td>\n",
              "      <td>151.65</td>\n",
              "      <td>Yes</td>\n",
              "    </tr>\n",
              "    <tr>\n",
              "      <th>...</th>\n",
              "      <td>...</td>\n",
              "      <td>...</td>\n",
              "      <td>...</td>\n",
              "      <td>...</td>\n",
              "      <td>...</td>\n",
              "      <td>...</td>\n",
              "      <td>...</td>\n",
              "      <td>...</td>\n",
              "      <td>...</td>\n",
              "      <td>...</td>\n",
              "      <td>...</td>\n",
              "      <td>...</td>\n",
              "      <td>...</td>\n",
              "      <td>...</td>\n",
              "      <td>...</td>\n",
              "      <td>...</td>\n",
              "      <td>...</td>\n",
              "      <td>...</td>\n",
              "      <td>...</td>\n",
              "      <td>...</td>\n",
              "      <td>...</td>\n",
              "    </tr>\n",
              "    <tr>\n",
              "      <th>7038</th>\n",
              "      <td>6840-RESVB</td>\n",
              "      <td>Male</td>\n",
              "      <td>0</td>\n",
              "      <td>Yes</td>\n",
              "      <td>Yes</td>\n",
              "      <td>24</td>\n",
              "      <td>Yes</td>\n",
              "      <td>Yes</td>\n",
              "      <td>DSL</td>\n",
              "      <td>Yes</td>\n",
              "      <td>...</td>\n",
              "      <td>Yes</td>\n",
              "      <td>Yes</td>\n",
              "      <td>Yes</td>\n",
              "      <td>Yes</td>\n",
              "      <td>One year</td>\n",
              "      <td>Yes</td>\n",
              "      <td>Mailed check</td>\n",
              "      <td>84.80</td>\n",
              "      <td>1990.5</td>\n",
              "      <td>No</td>\n",
              "    </tr>\n",
              "    <tr>\n",
              "      <th>7039</th>\n",
              "      <td>2234-XADUH</td>\n",
              "      <td>Female</td>\n",
              "      <td>0</td>\n",
              "      <td>Yes</td>\n",
              "      <td>Yes</td>\n",
              "      <td>72</td>\n",
              "      <td>Yes</td>\n",
              "      <td>Yes</td>\n",
              "      <td>Fiber optic</td>\n",
              "      <td>No</td>\n",
              "      <td>...</td>\n",
              "      <td>Yes</td>\n",
              "      <td>No</td>\n",
              "      <td>Yes</td>\n",
              "      <td>Yes</td>\n",
              "      <td>One year</td>\n",
              "      <td>Yes</td>\n",
              "      <td>Credit card (automatic)</td>\n",
              "      <td>103.20</td>\n",
              "      <td>7362.9</td>\n",
              "      <td>No</td>\n",
              "    </tr>\n",
              "    <tr>\n",
              "      <th>7040</th>\n",
              "      <td>4801-JZAZL</td>\n",
              "      <td>Female</td>\n",
              "      <td>0</td>\n",
              "      <td>Yes</td>\n",
              "      <td>Yes</td>\n",
              "      <td>11</td>\n",
              "      <td>No</td>\n",
              "      <td>No phone service</td>\n",
              "      <td>DSL</td>\n",
              "      <td>Yes</td>\n",
              "      <td>...</td>\n",
              "      <td>No</td>\n",
              "      <td>No</td>\n",
              "      <td>No</td>\n",
              "      <td>No</td>\n",
              "      <td>Month-to-month</td>\n",
              "      <td>Yes</td>\n",
              "      <td>Electronic check</td>\n",
              "      <td>29.60</td>\n",
              "      <td>346.45</td>\n",
              "      <td>No</td>\n",
              "    </tr>\n",
              "    <tr>\n",
              "      <th>7041</th>\n",
              "      <td>8361-LTMKD</td>\n",
              "      <td>Male</td>\n",
              "      <td>1</td>\n",
              "      <td>Yes</td>\n",
              "      <td>No</td>\n",
              "      <td>4</td>\n",
              "      <td>Yes</td>\n",
              "      <td>Yes</td>\n",
              "      <td>Fiber optic</td>\n",
              "      <td>No</td>\n",
              "      <td>...</td>\n",
              "      <td>No</td>\n",
              "      <td>No</td>\n",
              "      <td>No</td>\n",
              "      <td>No</td>\n",
              "      <td>Month-to-month</td>\n",
              "      <td>Yes</td>\n",
              "      <td>Mailed check</td>\n",
              "      <td>74.40</td>\n",
              "      <td>306.6</td>\n",
              "      <td>Yes</td>\n",
              "    </tr>\n",
              "    <tr>\n",
              "      <th>7042</th>\n",
              "      <td>3186-AJIEK</td>\n",
              "      <td>Male</td>\n",
              "      <td>0</td>\n",
              "      <td>No</td>\n",
              "      <td>No</td>\n",
              "      <td>66</td>\n",
              "      <td>Yes</td>\n",
              "      <td>No</td>\n",
              "      <td>Fiber optic</td>\n",
              "      <td>Yes</td>\n",
              "      <td>...</td>\n",
              "      <td>Yes</td>\n",
              "      <td>Yes</td>\n",
              "      <td>Yes</td>\n",
              "      <td>Yes</td>\n",
              "      <td>Two year</td>\n",
              "      <td>Yes</td>\n",
              "      <td>Bank transfer (automatic)</td>\n",
              "      <td>105.65</td>\n",
              "      <td>6844.5</td>\n",
              "      <td>No</td>\n",
              "    </tr>\n",
              "  </tbody>\n",
              "</table>\n",
              "<p>7043 rows × 21 columns</p>\n",
              "</div>"
            ],
            "text/plain": [
              "      customerID  gender  SeniorCitizen Partner Dependents  tenure  \\\n",
              "0     7590-VHVEG  Female              0     Yes         No       1   \n",
              "1     5575-GNVDE    Male              0      No         No      34   \n",
              "2     3668-QPYBK    Male              0      No         No       2   \n",
              "3     7795-CFOCW    Male              0      No         No      45   \n",
              "4     9237-HQITU  Female              0      No         No       2   \n",
              "...          ...     ...            ...     ...        ...     ...   \n",
              "7038  6840-RESVB    Male              0     Yes        Yes      24   \n",
              "7039  2234-XADUH  Female              0     Yes        Yes      72   \n",
              "7040  4801-JZAZL  Female              0     Yes        Yes      11   \n",
              "7041  8361-LTMKD    Male              1     Yes         No       4   \n",
              "7042  3186-AJIEK    Male              0      No         No      66   \n",
              "\n",
              "     PhoneService     MultipleLines InternetService OnlineSecurity  ...  \\\n",
              "0              No  No phone service             DSL             No  ...   \n",
              "1             Yes                No             DSL            Yes  ...   \n",
              "2             Yes                No             DSL            Yes  ...   \n",
              "3              No  No phone service             DSL            Yes  ...   \n",
              "4             Yes                No     Fiber optic             No  ...   \n",
              "...           ...               ...             ...            ...  ...   \n",
              "7038          Yes               Yes             DSL            Yes  ...   \n",
              "7039          Yes               Yes     Fiber optic             No  ...   \n",
              "7040           No  No phone service             DSL            Yes  ...   \n",
              "7041          Yes               Yes     Fiber optic             No  ...   \n",
              "7042          Yes                No     Fiber optic            Yes  ...   \n",
              "\n",
              "     DeviceProtection TechSupport StreamingTV StreamingMovies        Contract  \\\n",
              "0                  No          No          No              No  Month-to-month   \n",
              "1                 Yes          No          No              No        One year   \n",
              "2                  No          No          No              No  Month-to-month   \n",
              "3                 Yes         Yes          No              No        One year   \n",
              "4                  No          No          No              No  Month-to-month   \n",
              "...               ...         ...         ...             ...             ...   \n",
              "7038              Yes         Yes         Yes             Yes        One year   \n",
              "7039              Yes          No         Yes             Yes        One year   \n",
              "7040               No          No          No              No  Month-to-month   \n",
              "7041               No          No          No              No  Month-to-month   \n",
              "7042              Yes         Yes         Yes             Yes        Two year   \n",
              "\n",
              "     PaperlessBilling              PaymentMethod MonthlyCharges  TotalCharges  \\\n",
              "0                 Yes           Electronic check          29.85         29.85   \n",
              "1                  No               Mailed check          56.95        1889.5   \n",
              "2                 Yes               Mailed check          53.85        108.15   \n",
              "3                  No  Bank transfer (automatic)          42.30       1840.75   \n",
              "4                 Yes           Electronic check          70.70        151.65   \n",
              "...               ...                        ...            ...           ...   \n",
              "7038              Yes               Mailed check          84.80        1990.5   \n",
              "7039              Yes    Credit card (automatic)         103.20        7362.9   \n",
              "7040              Yes           Electronic check          29.60        346.45   \n",
              "7041              Yes               Mailed check          74.40         306.6   \n",
              "7042              Yes  Bank transfer (automatic)         105.65        6844.5   \n",
              "\n",
              "     Churn  \n",
              "0       No  \n",
              "1       No  \n",
              "2      Yes  \n",
              "3       No  \n",
              "4      Yes  \n",
              "...    ...  \n",
              "7038    No  \n",
              "7039    No  \n",
              "7040    No  \n",
              "7041   Yes  \n",
              "7042    No  \n",
              "\n",
              "[7043 rows x 21 columns]"
            ]
          },
          "execution_count": 7,
          "metadata": {},
          "output_type": "execute_result"
        }
      ],
      "source": [
        "churn_data"
      ]
    },
    {
      "cell_type": "code",
      "execution_count": null,
      "id": "65499ec0",
      "metadata": {
        "id": "65499ec0",
        "outputId": "17042af3-c45c-439b-8bd2-f6aedcc92fa8"
      },
      "outputs": [
        {
          "data": {
            "text/plain": [
              "107.7"
            ]
          },
          "execution_count": 18,
          "metadata": {},
          "output_type": "execute_result"
        }
      ],
      "source": [
        "53.85*2"
      ]
    },
    {
      "cell_type": "code",
      "execution_count": null,
      "id": "e612f0b6",
      "metadata": {
        "id": "e612f0b6",
        "outputId": "0fe32a0f-7ae3-4050-b2d8-56be9a66f389"
      },
      "outputs": [
        {
          "data": {
            "text/plain": [
              "No                  3390\n",
              "Yes                 2971\n",
              "No phone service     682\n",
              "Name: MultipleLines, dtype: int64"
            ]
          },
          "execution_count": 4,
          "metadata": {},
          "output_type": "execute_result"
        }
      ],
      "source": [
        "churn_data['MultipleLines'].value_counts()"
      ]
    },
    {
      "cell_type": "code",
      "execution_count": null,
      "id": "1fe12fb4",
      "metadata": {
        "id": "1fe12fb4",
        "outputId": "c9fe5b93-e41a-4a23-fe6e-69321bbbcd3e"
      },
      "outputs": [
        {
          "data": {
            "text/plain": [
              "Fiber optic    3096\n",
              "DSL            2421\n",
              "No             1526\n",
              "Name: InternetService, dtype: int64"
            ]
          },
          "execution_count": 5,
          "metadata": {},
          "output_type": "execute_result"
        }
      ],
      "source": [
        "churn_data['InternetService'].value_counts()"
      ]
    },
    {
      "cell_type": "code",
      "execution_count": null,
      "id": "992e47f8",
      "metadata": {
        "id": "992e47f8",
        "outputId": "d8d02169-3d1a-43b6-b75b-21070a12e2b2"
      },
      "outputs": [
        {
          "data": {
            "text/plain": [
              "1672    72\n",
              "193     72\n",
              "4553    72\n",
              "483     72\n",
              "3266    72\n",
              "        ..\n",
              "1082     0\n",
              "3826     0\n",
              "936      0\n",
              "6754     0\n",
              "1340     0\n",
              "Name: tenure, Length: 7043, dtype: int64"
            ]
          },
          "execution_count": 4,
          "metadata": {},
          "output_type": "execute_result"
        }
      ],
      "source": [
        "churn_data['tenure'].sort_values(ascending = False)"
      ]
    },
    {
      "cell_type": "code",
      "execution_count": null,
      "id": "0d6be097",
      "metadata": {
        "id": "0d6be097",
        "outputId": "bcd203ea-b513-42e2-bc06-c9f1e23327e7"
      },
      "outputs": [
        {
          "data": {
            "text/plain": [
              "(7043, 21)"
            ]
          },
          "execution_count": 19,
          "metadata": {},
          "output_type": "execute_result"
        }
      ],
      "source": [
        "churn_data.shape # Knowing the no. of rows and columns"
      ]
    },
    {
      "cell_type": "code",
      "execution_count": null,
      "id": "feba5990",
      "metadata": {
        "id": "feba5990",
        "outputId": "55b3d564-30ab-425d-e098-13a9508ac1e4"
      },
      "outputs": [
        {
          "data": {
            "text/plain": [
              "customerID           object\n",
              "gender               object\n",
              "SeniorCitizen         int64\n",
              "Partner              object\n",
              "Dependents           object\n",
              "tenure                int64\n",
              "PhoneService         object\n",
              "MultipleLines        object\n",
              "InternetService      object\n",
              "OnlineSecurity       object\n",
              "OnlineBackup         object\n",
              "DeviceProtection     object\n",
              "TechSupport          object\n",
              "StreamingTV          object\n",
              "StreamingMovies      object\n",
              "Contract             object\n",
              "PaperlessBilling     object\n",
              "PaymentMethod        object\n",
              "MonthlyCharges      float64\n",
              "TotalCharges         object\n",
              "Churn                object\n",
              "dtype: object"
            ]
          },
          "execution_count": 20,
          "metadata": {},
          "output_type": "execute_result"
        }
      ],
      "source": [
        "churn_data.dtypes # knowing the data type of each and every column"
      ]
    },
    {
      "cell_type": "code",
      "execution_count": null,
      "id": "3d732773",
      "metadata": {
        "id": "3d732773"
      },
      "outputs": [],
      "source": [
        "# object --> string value\n",
        "a = ' '"
      ]
    },
    {
      "cell_type": "code",
      "execution_count": null,
      "id": "75d28b7b",
      "metadata": {
        "id": "75d28b7b",
        "outputId": "dabb0b92-cc73-4674-c3fc-fbd251cf824a"
      },
      "outputs": [
        {
          "data": {
            "text/plain": [
              "' '"
            ]
          },
          "execution_count": 23,
          "metadata": {},
          "output_type": "execute_result"
        }
      ],
      "source": [
        "a"
      ]
    },
    {
      "cell_type": "code",
      "execution_count": null,
      "id": "9d99d938",
      "metadata": {
        "id": "9d99d938",
        "outputId": "9dd551db-2dc5-469f-baac-e6914e1d15a1"
      },
      "outputs": [
        {
          "data": {
            "text/plain": [
              "customerID          0\n",
              "gender              0\n",
              "SeniorCitizen       0\n",
              "Partner             0\n",
              "Dependents          0\n",
              "tenure              0\n",
              "PhoneService        0\n",
              "MultipleLines       0\n",
              "InternetService     0\n",
              "OnlineSecurity      0\n",
              "OnlineBackup        0\n",
              "DeviceProtection    0\n",
              "TechSupport         0\n",
              "StreamingTV         0\n",
              "StreamingMovies     0\n",
              "Contract            0\n",
              "PaperlessBilling    0\n",
              "PaymentMethod       0\n",
              "MonthlyCharges      0\n",
              "TotalCharges        0\n",
              "Churn               0\n",
              "dtype: int64"
            ]
          },
          "execution_count": 21,
          "metadata": {},
          "output_type": "execute_result"
        }
      ],
      "source": [
        "churn_data.isna().sum() # checking null values , isnull()"
      ]
    },
    {
      "cell_type": "code",
      "execution_count": null,
      "id": "15d37872",
      "metadata": {
        "id": "15d37872"
      },
      "outputs": [],
      "source": [
        "a = (churn_data['tenure']<10) | (churn_data['TotalCharges']<'500')"
      ]
    },
    {
      "cell_type": "code",
      "execution_count": null,
      "id": "bfe2b916",
      "metadata": {
        "id": "bfe2b916",
        "outputId": "9a05f377-8230-499f-80a1-88f0acdd1914"
      },
      "outputs": [
        {
          "data": {
            "text/plain": [
              "True     5237\n",
              "False    1806\n",
              "dtype: int64"
            ]
          },
          "execution_count": 8,
          "metadata": {},
          "output_type": "execute_result"
        }
      ],
      "source": [
        "a.value_counts()"
      ]
    },
    {
      "cell_type": "code",
      "execution_count": null,
      "id": "05da22a4",
      "metadata": {
        "id": "05da22a4"
      },
      "outputs": [],
      "source": [
        "a = ''"
      ]
    },
    {
      "cell_type": "code",
      "execution_count": null,
      "id": "cb1b947e",
      "metadata": {
        "id": "cb1b947e",
        "outputId": "a0a7d58a-8d3a-4fde-c95c-c997a6cb8fc9"
      },
      "outputs": [
        {
          "data": {
            "text/plain": [
              "''"
            ]
          },
          "execution_count": 41,
          "metadata": {},
          "output_type": "execute_result"
        }
      ],
      "source": [
        "a"
      ]
    },
    {
      "cell_type": "code",
      "execution_count": null,
      "id": "c03c55bd",
      "metadata": {
        "id": "c03c55bd",
        "outputId": "544f6905-9049-4a0b-a3d1-7d1fc45dc77b"
      },
      "outputs": [
        {
          "ename": "ValueError",
          "evalue": "invalid literal for int() with base 10: ''",
          "output_type": "error",
          "traceback": [
            "\u001b[1;31m---------------------------------------------------------------------------\u001b[0m",
            "\u001b[1;31mValueError\u001b[0m                                Traceback (most recent call last)",
            "\u001b[1;32m~\\AppData\\Local\\Temp\\ipykernel_8488\\4092517267.py\u001b[0m in \u001b[0;36m<module>\u001b[1;34m\u001b[0m\n\u001b[1;32m----> 1\u001b[1;33m \u001b[0ma1\u001b[0m \u001b[1;33m=\u001b[0m \u001b[0mint\u001b[0m\u001b[1;33m(\u001b[0m\u001b[0ma\u001b[0m\u001b[1;33m)\u001b[0m\u001b[1;33m\u001b[0m\u001b[1;33m\u001b[0m\u001b[0m\n\u001b[0m",
            "\u001b[1;31mValueError\u001b[0m: invalid literal for int() with base 10: ''"
          ]
        }
      ],
      "source": [
        "a1 = int(a)"
      ]
    },
    {
      "cell_type": "code",
      "execution_count": null,
      "id": "793e6b77",
      "metadata": {
        "id": "793e6b77",
        "outputId": "d20b90e6-c841-48df-c515-b87c7c68ef25"
      },
      "outputs": [
        {
          "data": {
            "text/plain": [
              "5"
            ]
          },
          "execution_count": 31,
          "metadata": {},
          "output_type": "execute_result"
        }
      ],
      "source": [
        "a1"
      ]
    },
    {
      "cell_type": "code",
      "execution_count": null,
      "id": "2dc25de3",
      "metadata": {
        "id": "2dc25de3",
        "outputId": "5453f007-2516-4726-b237-40f17bef5142"
      },
      "outputs": [
        {
          "data": {
            "text/plain": [
              "No     4933\n",
              "Yes    2110\n",
              "Name: Dependents, dtype: int64"
            ]
          },
          "execution_count": 39,
          "metadata": {},
          "output_type": "execute_result"
        }
      ],
      "source": [
        "churn_data['Dependents'].value_counts()"
      ]
    },
    {
      "cell_type": "code",
      "execution_count": null,
      "id": "17328446",
      "metadata": {
        "id": "17328446",
        "outputId": "0c7a310f-912f-4ccc-d46a-1b327453160c"
      },
      "outputs": [
        {
          "data": {
            "text/plain": [
              "20.20      11\n",
              "19.75       9\n",
              "20.05       8\n",
              "19.90       8\n",
              "19.65       8\n",
              "           ..\n",
              "6849.40     1\n",
              "692.35      1\n",
              "130.15      1\n",
              "3211.90     1\n",
              "6844.50     1\n",
              "Name: TotalCharges, Length: 6530, dtype: int64"
            ]
          },
          "execution_count": 45,
          "metadata": {},
          "output_type": "execute_result"
        }
      ],
      "source": [
        "churn_data['TotalCharges'].value_counts()"
      ]
    },
    {
      "cell_type": "code",
      "execution_count": null,
      "id": "0154e56b",
      "metadata": {
        "id": "0154e56b",
        "outputId": "f12f44b8-e271-4ade-fa85-317e3f93a0f2"
      },
      "outputs": [
        {
          "data": {
            "text/html": [
              "<div>\n",
              "<style scoped>\n",
              "    .dataframe tbody tr th:only-of-type {\n",
              "        vertical-align: middle;\n",
              "    }\n",
              "\n",
              "    .dataframe tbody tr th {\n",
              "        vertical-align: top;\n",
              "    }\n",
              "\n",
              "    .dataframe thead th {\n",
              "        text-align: right;\n",
              "    }\n",
              "</style>\n",
              "<table border=\"1\" class=\"dataframe\">\n",
              "  <thead>\n",
              "    <tr style=\"text-align: right;\">\n",
              "      <th></th>\n",
              "      <th>customerID</th>\n",
              "      <th>gender</th>\n",
              "      <th>SeniorCitizen</th>\n",
              "      <th>Partner</th>\n",
              "      <th>Dependents</th>\n",
              "      <th>tenure</th>\n",
              "      <th>PhoneService</th>\n",
              "      <th>MultipleLines</th>\n",
              "      <th>InternetService</th>\n",
              "      <th>OnlineSecurity</th>\n",
              "      <th>...</th>\n",
              "      <th>DeviceProtection</th>\n",
              "      <th>TechSupport</th>\n",
              "      <th>StreamingTV</th>\n",
              "      <th>StreamingMovies</th>\n",
              "      <th>Contract</th>\n",
              "      <th>PaperlessBilling</th>\n",
              "      <th>PaymentMethod</th>\n",
              "      <th>MonthlyCharges</th>\n",
              "      <th>TotalCharges</th>\n",
              "      <th>Churn</th>\n",
              "    </tr>\n",
              "  </thead>\n",
              "  <tbody>\n",
              "    <tr>\n",
              "      <th>488</th>\n",
              "      <td>4472-LVYGI</td>\n",
              "      <td>Female</td>\n",
              "      <td>0</td>\n",
              "      <td>Yes</td>\n",
              "      <td>Yes</td>\n",
              "      <td>0</td>\n",
              "      <td>No</td>\n",
              "      <td>No phone service</td>\n",
              "      <td>DSL</td>\n",
              "      <td>Yes</td>\n",
              "      <td>...</td>\n",
              "      <td>Yes</td>\n",
              "      <td>Yes</td>\n",
              "      <td>Yes</td>\n",
              "      <td>No</td>\n",
              "      <td>Two year</td>\n",
              "      <td>Yes</td>\n",
              "      <td>Bank transfer (automatic)</td>\n",
              "      <td>52.55</td>\n",
              "      <td></td>\n",
              "      <td>No</td>\n",
              "    </tr>\n",
              "    <tr>\n",
              "      <th>753</th>\n",
              "      <td>3115-CZMZD</td>\n",
              "      <td>Male</td>\n",
              "      <td>0</td>\n",
              "      <td>No</td>\n",
              "      <td>Yes</td>\n",
              "      <td>0</td>\n",
              "      <td>Yes</td>\n",
              "      <td>No</td>\n",
              "      <td>No</td>\n",
              "      <td>No internet service</td>\n",
              "      <td>...</td>\n",
              "      <td>No internet service</td>\n",
              "      <td>No internet service</td>\n",
              "      <td>No internet service</td>\n",
              "      <td>No internet service</td>\n",
              "      <td>Two year</td>\n",
              "      <td>No</td>\n",
              "      <td>Mailed check</td>\n",
              "      <td>20.25</td>\n",
              "      <td></td>\n",
              "      <td>No</td>\n",
              "    </tr>\n",
              "    <tr>\n",
              "      <th>936</th>\n",
              "      <td>5709-LVOEQ</td>\n",
              "      <td>Female</td>\n",
              "      <td>0</td>\n",
              "      <td>Yes</td>\n",
              "      <td>Yes</td>\n",
              "      <td>0</td>\n",
              "      <td>Yes</td>\n",
              "      <td>No</td>\n",
              "      <td>DSL</td>\n",
              "      <td>Yes</td>\n",
              "      <td>...</td>\n",
              "      <td>Yes</td>\n",
              "      <td>No</td>\n",
              "      <td>Yes</td>\n",
              "      <td>Yes</td>\n",
              "      <td>Two year</td>\n",
              "      <td>No</td>\n",
              "      <td>Mailed check</td>\n",
              "      <td>80.85</td>\n",
              "      <td></td>\n",
              "      <td>No</td>\n",
              "    </tr>\n",
              "    <tr>\n",
              "      <th>1082</th>\n",
              "      <td>4367-NUYAO</td>\n",
              "      <td>Male</td>\n",
              "      <td>0</td>\n",
              "      <td>Yes</td>\n",
              "      <td>Yes</td>\n",
              "      <td>0</td>\n",
              "      <td>Yes</td>\n",
              "      <td>Yes</td>\n",
              "      <td>No</td>\n",
              "      <td>No internet service</td>\n",
              "      <td>...</td>\n",
              "      <td>No internet service</td>\n",
              "      <td>No internet service</td>\n",
              "      <td>No internet service</td>\n",
              "      <td>No internet service</td>\n",
              "      <td>Two year</td>\n",
              "      <td>No</td>\n",
              "      <td>Mailed check</td>\n",
              "      <td>25.75</td>\n",
              "      <td></td>\n",
              "      <td>No</td>\n",
              "    </tr>\n",
              "    <tr>\n",
              "      <th>1340</th>\n",
              "      <td>1371-DWPAZ</td>\n",
              "      <td>Female</td>\n",
              "      <td>0</td>\n",
              "      <td>Yes</td>\n",
              "      <td>Yes</td>\n",
              "      <td>0</td>\n",
              "      <td>No</td>\n",
              "      <td>No phone service</td>\n",
              "      <td>DSL</td>\n",
              "      <td>Yes</td>\n",
              "      <td>...</td>\n",
              "      <td>Yes</td>\n",
              "      <td>Yes</td>\n",
              "      <td>Yes</td>\n",
              "      <td>No</td>\n",
              "      <td>Two year</td>\n",
              "      <td>No</td>\n",
              "      <td>Credit card (automatic)</td>\n",
              "      <td>56.05</td>\n",
              "      <td></td>\n",
              "      <td>No</td>\n",
              "    </tr>\n",
              "    <tr>\n",
              "      <th>3331</th>\n",
              "      <td>7644-OMVMY</td>\n",
              "      <td>Male</td>\n",
              "      <td>0</td>\n",
              "      <td>Yes</td>\n",
              "      <td>Yes</td>\n",
              "      <td>0</td>\n",
              "      <td>Yes</td>\n",
              "      <td>No</td>\n",
              "      <td>No</td>\n",
              "      <td>No internet service</td>\n",
              "      <td>...</td>\n",
              "      <td>No internet service</td>\n",
              "      <td>No internet service</td>\n",
              "      <td>No internet service</td>\n",
              "      <td>No internet service</td>\n",
              "      <td>Two year</td>\n",
              "      <td>No</td>\n",
              "      <td>Mailed check</td>\n",
              "      <td>19.85</td>\n",
              "      <td></td>\n",
              "      <td>No</td>\n",
              "    </tr>\n",
              "    <tr>\n",
              "      <th>3826</th>\n",
              "      <td>3213-VVOLG</td>\n",
              "      <td>Male</td>\n",
              "      <td>0</td>\n",
              "      <td>Yes</td>\n",
              "      <td>Yes</td>\n",
              "      <td>0</td>\n",
              "      <td>Yes</td>\n",
              "      <td>Yes</td>\n",
              "      <td>No</td>\n",
              "      <td>No internet service</td>\n",
              "      <td>...</td>\n",
              "      <td>No internet service</td>\n",
              "      <td>No internet service</td>\n",
              "      <td>No internet service</td>\n",
              "      <td>No internet service</td>\n",
              "      <td>Two year</td>\n",
              "      <td>No</td>\n",
              "      <td>Mailed check</td>\n",
              "      <td>25.35</td>\n",
              "      <td></td>\n",
              "      <td>No</td>\n",
              "    </tr>\n",
              "    <tr>\n",
              "      <th>4380</th>\n",
              "      <td>2520-SGTTA</td>\n",
              "      <td>Female</td>\n",
              "      <td>0</td>\n",
              "      <td>Yes</td>\n",
              "      <td>Yes</td>\n",
              "      <td>0</td>\n",
              "      <td>Yes</td>\n",
              "      <td>No</td>\n",
              "      <td>No</td>\n",
              "      <td>No internet service</td>\n",
              "      <td>...</td>\n",
              "      <td>No internet service</td>\n",
              "      <td>No internet service</td>\n",
              "      <td>No internet service</td>\n",
              "      <td>No internet service</td>\n",
              "      <td>Two year</td>\n",
              "      <td>No</td>\n",
              "      <td>Mailed check</td>\n",
              "      <td>20.00</td>\n",
              "      <td></td>\n",
              "      <td>No</td>\n",
              "    </tr>\n",
              "    <tr>\n",
              "      <th>5218</th>\n",
              "      <td>2923-ARZLG</td>\n",
              "      <td>Male</td>\n",
              "      <td>0</td>\n",
              "      <td>Yes</td>\n",
              "      <td>Yes</td>\n",
              "      <td>0</td>\n",
              "      <td>Yes</td>\n",
              "      <td>No</td>\n",
              "      <td>No</td>\n",
              "      <td>No internet service</td>\n",
              "      <td>...</td>\n",
              "      <td>No internet service</td>\n",
              "      <td>No internet service</td>\n",
              "      <td>No internet service</td>\n",
              "      <td>No internet service</td>\n",
              "      <td>One year</td>\n",
              "      <td>Yes</td>\n",
              "      <td>Mailed check</td>\n",
              "      <td>19.70</td>\n",
              "      <td></td>\n",
              "      <td>No</td>\n",
              "    </tr>\n",
              "    <tr>\n",
              "      <th>6670</th>\n",
              "      <td>4075-WKNIU</td>\n",
              "      <td>Female</td>\n",
              "      <td>0</td>\n",
              "      <td>Yes</td>\n",
              "      <td>Yes</td>\n",
              "      <td>0</td>\n",
              "      <td>Yes</td>\n",
              "      <td>Yes</td>\n",
              "      <td>DSL</td>\n",
              "      <td>No</td>\n",
              "      <td>...</td>\n",
              "      <td>Yes</td>\n",
              "      <td>Yes</td>\n",
              "      <td>Yes</td>\n",
              "      <td>No</td>\n",
              "      <td>Two year</td>\n",
              "      <td>No</td>\n",
              "      <td>Mailed check</td>\n",
              "      <td>73.35</td>\n",
              "      <td></td>\n",
              "      <td>No</td>\n",
              "    </tr>\n",
              "    <tr>\n",
              "      <th>6754</th>\n",
              "      <td>2775-SEFEE</td>\n",
              "      <td>Male</td>\n",
              "      <td>0</td>\n",
              "      <td>No</td>\n",
              "      <td>Yes</td>\n",
              "      <td>0</td>\n",
              "      <td>Yes</td>\n",
              "      <td>Yes</td>\n",
              "      <td>DSL</td>\n",
              "      <td>Yes</td>\n",
              "      <td>...</td>\n",
              "      <td>No</td>\n",
              "      <td>Yes</td>\n",
              "      <td>No</td>\n",
              "      <td>No</td>\n",
              "      <td>Two year</td>\n",
              "      <td>Yes</td>\n",
              "      <td>Bank transfer (automatic)</td>\n",
              "      <td>61.90</td>\n",
              "      <td></td>\n",
              "      <td>No</td>\n",
              "    </tr>\n",
              "  </tbody>\n",
              "</table>\n",
              "<p>11 rows × 21 columns</p>\n",
              "</div>"
            ],
            "text/plain": [
              "      customerID  gender  SeniorCitizen Partner Dependents  tenure  \\\n",
              "488   4472-LVYGI  Female              0     Yes        Yes       0   \n",
              "753   3115-CZMZD    Male              0      No        Yes       0   \n",
              "936   5709-LVOEQ  Female              0     Yes        Yes       0   \n",
              "1082  4367-NUYAO    Male              0     Yes        Yes       0   \n",
              "1340  1371-DWPAZ  Female              0     Yes        Yes       0   \n",
              "3331  7644-OMVMY    Male              0     Yes        Yes       0   \n",
              "3826  3213-VVOLG    Male              0     Yes        Yes       0   \n",
              "4380  2520-SGTTA  Female              0     Yes        Yes       0   \n",
              "5218  2923-ARZLG    Male              0     Yes        Yes       0   \n",
              "6670  4075-WKNIU  Female              0     Yes        Yes       0   \n",
              "6754  2775-SEFEE    Male              0      No        Yes       0   \n",
              "\n",
              "     PhoneService     MultipleLines InternetService       OnlineSecurity  ...  \\\n",
              "488            No  No phone service             DSL                  Yes  ...   \n",
              "753           Yes                No              No  No internet service  ...   \n",
              "936           Yes                No             DSL                  Yes  ...   \n",
              "1082          Yes               Yes              No  No internet service  ...   \n",
              "1340           No  No phone service             DSL                  Yes  ...   \n",
              "3331          Yes                No              No  No internet service  ...   \n",
              "3826          Yes               Yes              No  No internet service  ...   \n",
              "4380          Yes                No              No  No internet service  ...   \n",
              "5218          Yes                No              No  No internet service  ...   \n",
              "6670          Yes               Yes             DSL                   No  ...   \n",
              "6754          Yes               Yes             DSL                  Yes  ...   \n",
              "\n",
              "         DeviceProtection          TechSupport          StreamingTV  \\\n",
              "488                   Yes                  Yes                  Yes   \n",
              "753   No internet service  No internet service  No internet service   \n",
              "936                   Yes                   No                  Yes   \n",
              "1082  No internet service  No internet service  No internet service   \n",
              "1340                  Yes                  Yes                  Yes   \n",
              "3331  No internet service  No internet service  No internet service   \n",
              "3826  No internet service  No internet service  No internet service   \n",
              "4380  No internet service  No internet service  No internet service   \n",
              "5218  No internet service  No internet service  No internet service   \n",
              "6670                  Yes                  Yes                  Yes   \n",
              "6754                   No                  Yes                   No   \n",
              "\n",
              "          StreamingMovies  Contract PaperlessBilling  \\\n",
              "488                    No  Two year              Yes   \n",
              "753   No internet service  Two year               No   \n",
              "936                   Yes  Two year               No   \n",
              "1082  No internet service  Two year               No   \n",
              "1340                   No  Two year               No   \n",
              "3331  No internet service  Two year               No   \n",
              "3826  No internet service  Two year               No   \n",
              "4380  No internet service  Two year               No   \n",
              "5218  No internet service  One year              Yes   \n",
              "6670                   No  Two year               No   \n",
              "6754                   No  Two year              Yes   \n",
              "\n",
              "                  PaymentMethod MonthlyCharges  TotalCharges Churn  \n",
              "488   Bank transfer (automatic)          52.55                  No  \n",
              "753                Mailed check          20.25                  No  \n",
              "936                Mailed check          80.85                  No  \n",
              "1082               Mailed check          25.75                  No  \n",
              "1340    Credit card (automatic)          56.05                  No  \n",
              "3331               Mailed check          19.85                  No  \n",
              "3826               Mailed check          25.35                  No  \n",
              "4380               Mailed check          20.00                  No  \n",
              "5218               Mailed check          19.70                  No  \n",
              "6670               Mailed check          73.35                  No  \n",
              "6754  Bank transfer (automatic)          61.90                  No  \n",
              "\n",
              "[11 rows x 21 columns]"
            ]
          },
          "execution_count": 36,
          "metadata": {},
          "output_type": "execute_result"
        }
      ],
      "source": [
        "churn_data[churn_data[\"TotalCharges\"]==\" \"]"
      ]
    },
    {
      "cell_type": "code",
      "execution_count": null,
      "id": "11492646",
      "metadata": {
        "id": "11492646"
      },
      "outputs": [],
      "source": [
        "#changing theobject data to numeric to check if the nulll value is present\n",
        "churn_data[\"TotalCharges\"]=pd.to_numeric(churn_data[\"TotalCharges\"], errors=\"coerce\")\n",
        "# If we mention this, while the conversion is happening, if there are any null values present,\n",
        "# I'll be easily able to get them.\n",
        "# ' ', '12', ' ' --> after converting --> ( ,12, )"
      ]
    },
    {
      "cell_type": "code",
      "execution_count": null,
      "id": "01002a8e",
      "metadata": {
        "id": "01002a8e",
        "outputId": "2492d892-56cf-4266-9e23-fc2ddf83236f"
      },
      "outputs": [
        {
          "data": {
            "text/plain": [
              "customerID           object\n",
              "gender               object\n",
              "SeniorCitizen         int64\n",
              "Partner              object\n",
              "Dependents           object\n",
              "tenure                int64\n",
              "PhoneService         object\n",
              "MultipleLines        object\n",
              "InternetService      object\n",
              "OnlineSecurity       object\n",
              "OnlineBackup         object\n",
              "DeviceProtection     object\n",
              "TechSupport          object\n",
              "StreamingTV          object\n",
              "StreamingMovies      object\n",
              "Contract             object\n",
              "PaperlessBilling     object\n",
              "PaymentMethod        object\n",
              "MonthlyCharges      float64\n",
              "TotalCharges        float64\n",
              "Churn                object\n",
              "dtype: object"
            ]
          },
          "execution_count": 44,
          "metadata": {},
          "output_type": "execute_result"
        }
      ],
      "source": [
        "churn_data.dtypes"
      ]
    },
    {
      "cell_type": "code",
      "execution_count": null,
      "id": "3cc3c946",
      "metadata": {
        "id": "3cc3c946"
      },
      "outputs": [],
      "source": [
        "# Null values --> (Empty spaces), NaN"
      ]
    },
    {
      "cell_type": "code",
      "execution_count": null,
      "id": "5509bb8a",
      "metadata": {
        "scrolled": true,
        "id": "5509bb8a",
        "outputId": "c088994e-5f53-42ad-9389-ba3aa1e67d9f"
      },
      "outputs": [
        {
          "data": {
            "text/plain": [
              "customerID           0\n",
              "gender               0\n",
              "SeniorCitizen        0\n",
              "Partner              0\n",
              "Dependents           0\n",
              "tenure               0\n",
              "PhoneService         0\n",
              "MultipleLines        0\n",
              "InternetService      0\n",
              "OnlineSecurity       0\n",
              "OnlineBackup         0\n",
              "DeviceProtection     0\n",
              "TechSupport          0\n",
              "StreamingTV          0\n",
              "StreamingMovies      0\n",
              "Contract             0\n",
              "PaperlessBilling     0\n",
              "PaymentMethod        0\n",
              "MonthlyCharges       0\n",
              "TotalCharges        11\n",
              "Churn                0\n",
              "dtype: int64"
            ]
          },
          "execution_count": 47,
          "metadata": {},
          "output_type": "execute_result"
        }
      ],
      "source": [
        "churn_data.isna().sum()"
      ]
    },
    {
      "cell_type": "code",
      "execution_count": null,
      "id": "58f42c8f",
      "metadata": {
        "id": "58f42c8f",
        "outputId": "4023c510-a00c-4321-9116-5449e003d66f"
      },
      "outputs": [
        {
          "data": {
            "text/plain": [
              "7043"
            ]
          },
          "execution_count": 14,
          "metadata": {},
          "output_type": "execute_result"
        }
      ],
      "source": [
        "len(churn_data)"
      ]
    },
    {
      "cell_type": "code",
      "execution_count": null,
      "id": "b89d36cd",
      "metadata": {
        "id": "b89d36cd",
        "outputId": "b40ea6c2-e271-425c-d3a4-42cc1dc319ba"
      },
      "outputs": [
        {
          "data": {
            "text/plain": [
              "0.1561834445548772"
            ]
          },
          "execution_count": 48,
          "metadata": {},
          "output_type": "execute_result"
        }
      ],
      "source": [
        "100*(11/7043)"
      ]
    },
    {
      "cell_type": "code",
      "execution_count": null,
      "id": "1ec96cc8",
      "metadata": {
        "id": "1ec96cc8",
        "outputId": "fa4d04f9-54c0-40b2-d919-e4f5c8001efa"
      },
      "outputs": [
        {
          "data": {
            "text/plain": [
              "customerID          0.000\n",
              "gender              0.000\n",
              "SeniorCitizen       0.000\n",
              "Partner             0.000\n",
              "Dependents          0.000\n",
              "tenure              0.000\n",
              "PhoneService        0.000\n",
              "MultipleLines       0.000\n",
              "InternetService     0.000\n",
              "OnlineSecurity      0.000\n",
              "OnlineBackup        0.000\n",
              "DeviceProtection    0.000\n",
              "TechSupport         0.000\n",
              "StreamingTV         0.000\n",
              "StreamingMovies     0.000\n",
              "Contract            0.000\n",
              "PaperlessBilling    0.000\n",
              "PaymentMethod       0.000\n",
              "MonthlyCharges      0.000\n",
              "TotalCharges        0.156\n",
              "Churn               0.000\n",
              "dtype: float64"
            ]
          },
          "execution_count": 49,
          "metadata": {},
          "output_type": "execute_result"
        }
      ],
      "source": [
        "# checking the percentage contribution of null values to entire data\n",
        "null_value_p=round(100*(churn_data.isna().sum())/len(churn_data),3)\n",
        "null_value_p"
      ]
    },
    {
      "cell_type": "code",
      "execution_count": null,
      "id": "b4857c86",
      "metadata": {
        "id": "b4857c86",
        "outputId": "004cf857-e80b-4589-9fcf-ea213e9e5bc7"
      },
      "outputs": [
        {
          "data": {
            "text/plain": [
              "99.844"
            ]
          },
          "execution_count": 50,
          "metadata": {},
          "output_type": "execute_result"
        }
      ],
      "source": [
        "100-0.156"
      ]
    },
    {
      "cell_type": "code",
      "execution_count": null,
      "id": "eb2c009a",
      "metadata": {
        "id": "eb2c009a"
      },
      "outputs": [],
      "source": [
        "# 99.84 % => Data without null values"
      ]
    },
    {
      "cell_type": "code",
      "execution_count": null,
      "id": "4cd71c31",
      "metadata": {
        "id": "4cd71c31"
      },
      "outputs": [],
      "source": [
        "churn_data=churn_data.dropna() # dropping the null values"
      ]
    },
    {
      "cell_type": "code",
      "execution_count": null,
      "id": "25dcd9c6",
      "metadata": {
        "id": "25dcd9c6",
        "outputId": "7a560139-4042-4f3c-89ad-55b4622dad76"
      },
      "outputs": [
        {
          "data": {
            "text/plain": [
              "customerID          0\n",
              "gender              0\n",
              "SeniorCitizen       0\n",
              "Partner             0\n",
              "Dependents          0\n",
              "tenure              0\n",
              "PhoneService        0\n",
              "MultipleLines       0\n",
              "InternetService     0\n",
              "OnlineSecurity      0\n",
              "OnlineBackup        0\n",
              "DeviceProtection    0\n",
              "TechSupport         0\n",
              "StreamingTV         0\n",
              "StreamingMovies     0\n",
              "Contract            0\n",
              "PaperlessBilling    0\n",
              "PaymentMethod       0\n",
              "MonthlyCharges      0\n",
              "TotalCharges        0\n",
              "Churn               0\n",
              "dtype: int64"
            ]
          },
          "execution_count": 52,
          "metadata": {},
          "output_type": "execute_result"
        }
      ],
      "source": [
        "churn_data.isna().sum()"
      ]
    },
    {
      "cell_type": "code",
      "execution_count": null,
      "id": "6f601c9d",
      "metadata": {
        "id": "6f601c9d",
        "outputId": "80467d10-3d09-433b-c58f-b268b2a9f8f7"
      },
      "outputs": [
        {
          "data": {
            "text/html": [
              "<div>\n",
              "<style scoped>\n",
              "    .dataframe tbody tr th:only-of-type {\n",
              "        vertical-align: middle;\n",
              "    }\n",
              "\n",
              "    .dataframe tbody tr th {\n",
              "        vertical-align: top;\n",
              "    }\n",
              "\n",
              "    .dataframe thead th {\n",
              "        text-align: right;\n",
              "    }\n",
              "</style>\n",
              "<table border=\"1\" class=\"dataframe\">\n",
              "  <thead>\n",
              "    <tr style=\"text-align: right;\">\n",
              "      <th></th>\n",
              "      <th>customerID</th>\n",
              "      <th>gender</th>\n",
              "      <th>SeniorCitizen</th>\n",
              "      <th>Partner</th>\n",
              "      <th>Dependents</th>\n",
              "      <th>tenure</th>\n",
              "      <th>PhoneService</th>\n",
              "      <th>MultipleLines</th>\n",
              "      <th>InternetService</th>\n",
              "      <th>OnlineSecurity</th>\n",
              "      <th>...</th>\n",
              "      <th>DeviceProtection</th>\n",
              "      <th>TechSupport</th>\n",
              "      <th>StreamingTV</th>\n",
              "      <th>StreamingMovies</th>\n",
              "      <th>Contract</th>\n",
              "      <th>PaperlessBilling</th>\n",
              "      <th>PaymentMethod</th>\n",
              "      <th>MonthlyCharges</th>\n",
              "      <th>TotalCharges</th>\n",
              "      <th>Churn</th>\n",
              "    </tr>\n",
              "  </thead>\n",
              "  <tbody>\n",
              "    <tr>\n",
              "      <th>0</th>\n",
              "      <td>7590-VHVEG</td>\n",
              "      <td>Female</td>\n",
              "      <td>0</td>\n",
              "      <td>Yes</td>\n",
              "      <td>No</td>\n",
              "      <td>1</td>\n",
              "      <td>No</td>\n",
              "      <td>No phone service</td>\n",
              "      <td>DSL</td>\n",
              "      <td>No</td>\n",
              "      <td>...</td>\n",
              "      <td>No</td>\n",
              "      <td>No</td>\n",
              "      <td>No</td>\n",
              "      <td>No</td>\n",
              "      <td>Month-to-month</td>\n",
              "      <td>Yes</td>\n",
              "      <td>Electronic check</td>\n",
              "      <td>29.85</td>\n",
              "      <td>29.85</td>\n",
              "      <td>No</td>\n",
              "    </tr>\n",
              "    <tr>\n",
              "      <th>1</th>\n",
              "      <td>5575-GNVDE</td>\n",
              "      <td>Male</td>\n",
              "      <td>0</td>\n",
              "      <td>No</td>\n",
              "      <td>No</td>\n",
              "      <td>34</td>\n",
              "      <td>Yes</td>\n",
              "      <td>No</td>\n",
              "      <td>DSL</td>\n",
              "      <td>Yes</td>\n",
              "      <td>...</td>\n",
              "      <td>Yes</td>\n",
              "      <td>No</td>\n",
              "      <td>No</td>\n",
              "      <td>No</td>\n",
              "      <td>One year</td>\n",
              "      <td>No</td>\n",
              "      <td>Mailed check</td>\n",
              "      <td>56.95</td>\n",
              "      <td>1889.50</td>\n",
              "      <td>No</td>\n",
              "    </tr>\n",
              "    <tr>\n",
              "      <th>2</th>\n",
              "      <td>3668-QPYBK</td>\n",
              "      <td>Male</td>\n",
              "      <td>0</td>\n",
              "      <td>No</td>\n",
              "      <td>No</td>\n",
              "      <td>2</td>\n",
              "      <td>Yes</td>\n",
              "      <td>No</td>\n",
              "      <td>DSL</td>\n",
              "      <td>Yes</td>\n",
              "      <td>...</td>\n",
              "      <td>No</td>\n",
              "      <td>No</td>\n",
              "      <td>No</td>\n",
              "      <td>No</td>\n",
              "      <td>Month-to-month</td>\n",
              "      <td>Yes</td>\n",
              "      <td>Mailed check</td>\n",
              "      <td>53.85</td>\n",
              "      <td>108.15</td>\n",
              "      <td>Yes</td>\n",
              "    </tr>\n",
              "    <tr>\n",
              "      <th>3</th>\n",
              "      <td>7795-CFOCW</td>\n",
              "      <td>Male</td>\n",
              "      <td>0</td>\n",
              "      <td>No</td>\n",
              "      <td>No</td>\n",
              "      <td>45</td>\n",
              "      <td>No</td>\n",
              "      <td>No phone service</td>\n",
              "      <td>DSL</td>\n",
              "      <td>Yes</td>\n",
              "      <td>...</td>\n",
              "      <td>Yes</td>\n",
              "      <td>Yes</td>\n",
              "      <td>No</td>\n",
              "      <td>No</td>\n",
              "      <td>One year</td>\n",
              "      <td>No</td>\n",
              "      <td>Bank transfer (automatic)</td>\n",
              "      <td>42.30</td>\n",
              "      <td>1840.75</td>\n",
              "      <td>No</td>\n",
              "    </tr>\n",
              "    <tr>\n",
              "      <th>4</th>\n",
              "      <td>9237-HQITU</td>\n",
              "      <td>Female</td>\n",
              "      <td>0</td>\n",
              "      <td>No</td>\n",
              "      <td>No</td>\n",
              "      <td>2</td>\n",
              "      <td>Yes</td>\n",
              "      <td>No</td>\n",
              "      <td>Fiber optic</td>\n",
              "      <td>No</td>\n",
              "      <td>...</td>\n",
              "      <td>No</td>\n",
              "      <td>No</td>\n",
              "      <td>No</td>\n",
              "      <td>No</td>\n",
              "      <td>Month-to-month</td>\n",
              "      <td>Yes</td>\n",
              "      <td>Electronic check</td>\n",
              "      <td>70.70</td>\n",
              "      <td>151.65</td>\n",
              "      <td>Yes</td>\n",
              "    </tr>\n",
              "    <tr>\n",
              "      <th>...</th>\n",
              "      <td>...</td>\n",
              "      <td>...</td>\n",
              "      <td>...</td>\n",
              "      <td>...</td>\n",
              "      <td>...</td>\n",
              "      <td>...</td>\n",
              "      <td>...</td>\n",
              "      <td>...</td>\n",
              "      <td>...</td>\n",
              "      <td>...</td>\n",
              "      <td>...</td>\n",
              "      <td>...</td>\n",
              "      <td>...</td>\n",
              "      <td>...</td>\n",
              "      <td>...</td>\n",
              "      <td>...</td>\n",
              "      <td>...</td>\n",
              "      <td>...</td>\n",
              "      <td>...</td>\n",
              "      <td>...</td>\n",
              "      <td>...</td>\n",
              "    </tr>\n",
              "    <tr>\n",
              "      <th>7038</th>\n",
              "      <td>6840-RESVB</td>\n",
              "      <td>Male</td>\n",
              "      <td>0</td>\n",
              "      <td>Yes</td>\n",
              "      <td>Yes</td>\n",
              "      <td>24</td>\n",
              "      <td>Yes</td>\n",
              "      <td>Yes</td>\n",
              "      <td>DSL</td>\n",
              "      <td>Yes</td>\n",
              "      <td>...</td>\n",
              "      <td>Yes</td>\n",
              "      <td>Yes</td>\n",
              "      <td>Yes</td>\n",
              "      <td>Yes</td>\n",
              "      <td>One year</td>\n",
              "      <td>Yes</td>\n",
              "      <td>Mailed check</td>\n",
              "      <td>84.80</td>\n",
              "      <td>1990.50</td>\n",
              "      <td>No</td>\n",
              "    </tr>\n",
              "    <tr>\n",
              "      <th>7039</th>\n",
              "      <td>2234-XADUH</td>\n",
              "      <td>Female</td>\n",
              "      <td>0</td>\n",
              "      <td>Yes</td>\n",
              "      <td>Yes</td>\n",
              "      <td>72</td>\n",
              "      <td>Yes</td>\n",
              "      <td>Yes</td>\n",
              "      <td>Fiber optic</td>\n",
              "      <td>No</td>\n",
              "      <td>...</td>\n",
              "      <td>Yes</td>\n",
              "      <td>No</td>\n",
              "      <td>Yes</td>\n",
              "      <td>Yes</td>\n",
              "      <td>One year</td>\n",
              "      <td>Yes</td>\n",
              "      <td>Credit card (automatic)</td>\n",
              "      <td>103.20</td>\n",
              "      <td>7362.90</td>\n",
              "      <td>No</td>\n",
              "    </tr>\n",
              "    <tr>\n",
              "      <th>7040</th>\n",
              "      <td>4801-JZAZL</td>\n",
              "      <td>Female</td>\n",
              "      <td>0</td>\n",
              "      <td>Yes</td>\n",
              "      <td>Yes</td>\n",
              "      <td>11</td>\n",
              "      <td>No</td>\n",
              "      <td>No phone service</td>\n",
              "      <td>DSL</td>\n",
              "      <td>Yes</td>\n",
              "      <td>...</td>\n",
              "      <td>No</td>\n",
              "      <td>No</td>\n",
              "      <td>No</td>\n",
              "      <td>No</td>\n",
              "      <td>Month-to-month</td>\n",
              "      <td>Yes</td>\n",
              "      <td>Electronic check</td>\n",
              "      <td>29.60</td>\n",
              "      <td>346.45</td>\n",
              "      <td>No</td>\n",
              "    </tr>\n",
              "    <tr>\n",
              "      <th>7041</th>\n",
              "      <td>8361-LTMKD</td>\n",
              "      <td>Male</td>\n",
              "      <td>1</td>\n",
              "      <td>Yes</td>\n",
              "      <td>No</td>\n",
              "      <td>4</td>\n",
              "      <td>Yes</td>\n",
              "      <td>Yes</td>\n",
              "      <td>Fiber optic</td>\n",
              "      <td>No</td>\n",
              "      <td>...</td>\n",
              "      <td>No</td>\n",
              "      <td>No</td>\n",
              "      <td>No</td>\n",
              "      <td>No</td>\n",
              "      <td>Month-to-month</td>\n",
              "      <td>Yes</td>\n",
              "      <td>Mailed check</td>\n",
              "      <td>74.40</td>\n",
              "      <td>306.60</td>\n",
              "      <td>Yes</td>\n",
              "    </tr>\n",
              "    <tr>\n",
              "      <th>7042</th>\n",
              "      <td>3186-AJIEK</td>\n",
              "      <td>Male</td>\n",
              "      <td>0</td>\n",
              "      <td>No</td>\n",
              "      <td>No</td>\n",
              "      <td>66</td>\n",
              "      <td>Yes</td>\n",
              "      <td>No</td>\n",
              "      <td>Fiber optic</td>\n",
              "      <td>Yes</td>\n",
              "      <td>...</td>\n",
              "      <td>Yes</td>\n",
              "      <td>Yes</td>\n",
              "      <td>Yes</td>\n",
              "      <td>Yes</td>\n",
              "      <td>Two year</td>\n",
              "      <td>Yes</td>\n",
              "      <td>Bank transfer (automatic)</td>\n",
              "      <td>105.65</td>\n",
              "      <td>6844.50</td>\n",
              "      <td>No</td>\n",
              "    </tr>\n",
              "  </tbody>\n",
              "</table>\n",
              "<p>7032 rows × 21 columns</p>\n",
              "</div>"
            ],
            "text/plain": [
              "      customerID  gender  SeniorCitizen Partner Dependents  tenure  \\\n",
              "0     7590-VHVEG  Female              0     Yes         No       1   \n",
              "1     5575-GNVDE    Male              0      No         No      34   \n",
              "2     3668-QPYBK    Male              0      No         No       2   \n",
              "3     7795-CFOCW    Male              0      No         No      45   \n",
              "4     9237-HQITU  Female              0      No         No       2   \n",
              "...          ...     ...            ...     ...        ...     ...   \n",
              "7038  6840-RESVB    Male              0     Yes        Yes      24   \n",
              "7039  2234-XADUH  Female              0     Yes        Yes      72   \n",
              "7040  4801-JZAZL  Female              0     Yes        Yes      11   \n",
              "7041  8361-LTMKD    Male              1     Yes         No       4   \n",
              "7042  3186-AJIEK    Male              0      No         No      66   \n",
              "\n",
              "     PhoneService     MultipleLines InternetService OnlineSecurity  ...  \\\n",
              "0              No  No phone service             DSL             No  ...   \n",
              "1             Yes                No             DSL            Yes  ...   \n",
              "2             Yes                No             DSL            Yes  ...   \n",
              "3              No  No phone service             DSL            Yes  ...   \n",
              "4             Yes                No     Fiber optic             No  ...   \n",
              "...           ...               ...             ...            ...  ...   \n",
              "7038          Yes               Yes             DSL            Yes  ...   \n",
              "7039          Yes               Yes     Fiber optic             No  ...   \n",
              "7040           No  No phone service             DSL            Yes  ...   \n",
              "7041          Yes               Yes     Fiber optic             No  ...   \n",
              "7042          Yes                No     Fiber optic            Yes  ...   \n",
              "\n",
              "     DeviceProtection TechSupport StreamingTV StreamingMovies        Contract  \\\n",
              "0                  No          No          No              No  Month-to-month   \n",
              "1                 Yes          No          No              No        One year   \n",
              "2                  No          No          No              No  Month-to-month   \n",
              "3                 Yes         Yes          No              No        One year   \n",
              "4                  No          No          No              No  Month-to-month   \n",
              "...               ...         ...         ...             ...             ...   \n",
              "7038              Yes         Yes         Yes             Yes        One year   \n",
              "7039              Yes          No         Yes             Yes        One year   \n",
              "7040               No          No          No              No  Month-to-month   \n",
              "7041               No          No          No              No  Month-to-month   \n",
              "7042              Yes         Yes         Yes             Yes        Two year   \n",
              "\n",
              "     PaperlessBilling              PaymentMethod MonthlyCharges  TotalCharges  \\\n",
              "0                 Yes           Electronic check          29.85         29.85   \n",
              "1                  No               Mailed check          56.95       1889.50   \n",
              "2                 Yes               Mailed check          53.85        108.15   \n",
              "3                  No  Bank transfer (automatic)          42.30       1840.75   \n",
              "4                 Yes           Electronic check          70.70        151.65   \n",
              "...               ...                        ...            ...           ...   \n",
              "7038              Yes               Mailed check          84.80       1990.50   \n",
              "7039              Yes    Credit card (automatic)         103.20       7362.90   \n",
              "7040              Yes           Electronic check          29.60        346.45   \n",
              "7041              Yes               Mailed check          74.40        306.60   \n",
              "7042              Yes  Bank transfer (automatic)         105.65       6844.50   \n",
              "\n",
              "      Churn  \n",
              "0        No  \n",
              "1        No  \n",
              "2       Yes  \n",
              "3        No  \n",
              "4       Yes  \n",
              "...     ...  \n",
              "7038     No  \n",
              "7039     No  \n",
              "7040     No  \n",
              "7041    Yes  \n",
              "7042     No  \n",
              "\n",
              "[7032 rows x 21 columns]"
            ]
          },
          "execution_count": 53,
          "metadata": {},
          "output_type": "execute_result"
        }
      ],
      "source": [
        "churn_data"
      ]
    },
    {
      "cell_type": "code",
      "execution_count": null,
      "id": "6b388f22",
      "metadata": {
        "id": "6b388f22",
        "outputId": "9bcfae2e-78a3-4c27-ffce-79f76ac20b6d"
      },
      "outputs": [
        {
          "data": {
            "text/plain": [
              "Male      3549\n",
              "Female    3483\n",
              "Name: gender, dtype: int64"
            ]
          },
          "execution_count": 54,
          "metadata": {},
          "output_type": "execute_result"
        }
      ],
      "source": [
        "churn_data[\"gender\"].value_counts() # If I want to check which value is coming how many no. of times"
      ]
    },
    {
      "cell_type": "code",
      "execution_count": null,
      "id": "7524aebf",
      "metadata": {
        "scrolled": true,
        "id": "7524aebf",
        "outputId": "7adb35d6-41ab-488b-d2c0-fafab3e95561"
      },
      "outputs": [
        {
          "data": {
            "text/plain": [
              "Month-to-month    3875\n",
              "Two year          1685\n",
              "One year          1472\n",
              "Name: Contract, dtype: int64"
            ]
          },
          "execution_count": 55,
          "metadata": {},
          "output_type": "execute_result"
        }
      ],
      "source": [
        "churn_data[\"Contract\"].value_counts()"
      ]
    },
    {
      "cell_type": "code",
      "execution_count": null,
      "id": "14a384db",
      "metadata": {
        "id": "14a384db",
        "outputId": "2617af3e-3826-4345-eede-46e7788ee71e"
      },
      "outputs": [
        {
          "data": {
            "text/plain": [
              "72"
            ]
          },
          "execution_count": 59,
          "metadata": {},
          "output_type": "execute_result"
        }
      ],
      "source": [
        "churn_data['tenure'].nunique()"
      ]
    },
    {
      "cell_type": "code",
      "execution_count": null,
      "id": "d4699282",
      "metadata": {
        "id": "d4699282",
        "outputId": "2fff36dc-de29-45bd-8492-b9d10a0fd2ae"
      },
      "outputs": [
        {
          "data": {
            "text/plain": [
              "7032"
            ]
          },
          "execution_count": 60,
          "metadata": {},
          "output_type": "execute_result"
        }
      ],
      "source": [
        "# 1,2,3,4,5,6,7,7,3,3 = 10 values, 7 unique values\n",
        "len(churn_data[\"customerID\"].unique()) # To check how many unique values are present in the column"
      ]
    },
    {
      "cell_type": "code",
      "execution_count": null,
      "id": "529cd9ec",
      "metadata": {
        "id": "529cd9ec",
        "outputId": "ab39ea3c-8a25-4733-d3d4-28b254fbe59a"
      },
      "outputs": [
        {
          "name": "stdout",
          "output_type": "stream",
          "text": [
            "<class 'pandas.core.frame.DataFrame'>\n",
            "Int64Index: 7032 entries, 0 to 7042\n",
            "Data columns (total 21 columns):\n",
            " #   Column            Non-Null Count  Dtype  \n",
            "---  ------            --------------  -----  \n",
            " 0   customerID        7032 non-null   object \n",
            " 1   gender            7032 non-null   object \n",
            " 2   SeniorCitizen     7032 non-null   int64  \n",
            " 3   Partner           7032 non-null   object \n",
            " 4   Dependents        7032 non-null   object \n",
            " 5   tenure            7032 non-null   int64  \n",
            " 6   PhoneService      7032 non-null   object \n",
            " 7   MultipleLines     7032 non-null   object \n",
            " 8   InternetService   7032 non-null   object \n",
            " 9   OnlineSecurity    7032 non-null   object \n",
            " 10  OnlineBackup      7032 non-null   object \n",
            " 11  DeviceProtection  7032 non-null   object \n",
            " 12  TechSupport       7032 non-null   object \n",
            " 13  StreamingTV       7032 non-null   object \n",
            " 14  StreamingMovies   7032 non-null   object \n",
            " 15  Contract          7032 non-null   object \n",
            " 16  PaperlessBilling  7032 non-null   object \n",
            " 17  PaymentMethod     7032 non-null   object \n",
            " 18  MonthlyCharges    7032 non-null   float64\n",
            " 19  TotalCharges      7032 non-null   float64\n",
            " 20  Churn             7032 non-null   object \n",
            "dtypes: float64(2), int64(2), object(17)\n",
            "memory usage: 1.2+ MB\n"
          ]
        }
      ],
      "source": [
        "churn_data.info() # It provides a basic information about the dataset"
      ]
    },
    {
      "cell_type": "code",
      "execution_count": null,
      "id": "5d152362",
      "metadata": {
        "id": "5d152362",
        "outputId": "08fbacbf-6c97-442c-d94d-8da0dbc26f54"
      },
      "outputs": [
        {
          "name": "stderr",
          "output_type": "stream",
          "text": [
            "C:\\Users\\Dell\\AppData\\Local\\Temp\\ipykernel_8488\\2024631271.py:1: SettingWithCopyWarning: \n",
            "A value is trying to be set on a copy of a slice from a DataFrame\n",
            "\n",
            "See the caveats in the documentation: https://pandas.pydata.org/pandas-docs/stable/user_guide/indexing.html#returning-a-view-versus-a-copy\n",
            "  churn_data.drop(columns=[\"customerID\"],inplace=True)\n"
          ]
        }
      ],
      "source": [
        "churn_data.drop(columns=[\"customerID\"],inplace=True)"
      ]
    },
    {
      "cell_type": "code",
      "execution_count": null,
      "id": "64e8df36",
      "metadata": {
        "id": "64e8df36",
        "outputId": "1f22a0f3-fc36-4ff4-ae96-83b4755d3298"
      },
      "outputs": [
        {
          "data": {
            "text/plain": [
              "(7032, 20)"
            ]
          },
          "execution_count": 63,
          "metadata": {},
          "output_type": "execute_result"
        }
      ],
      "source": [
        "churn_data.shape"
      ]
    },
    {
      "cell_type": "code",
      "execution_count": null,
      "id": "3efd5f9d",
      "metadata": {
        "id": "3efd5f9d"
      },
      "outputs": [],
      "source": [
        "#churn_data[\"gender\"]=churn_data[\"gender\"].map(\"Male\":1,\"Female\":0)\n",
        "# converting the object data to numeric with the help of label encoder"
      ]
    },
    {
      "cell_type": "code",
      "execution_count": null,
      "id": "032d117a",
      "metadata": {
        "id": "032d117a",
        "outputId": "285e9900-816e-49d4-8010-7e056f8f33f3"
      },
      "outputs": [
        {
          "data": {
            "text/plain": [
              "Index(['gender', 'SeniorCitizen', 'Partner', 'Dependents', 'tenure',\n",
              "       'PhoneService', 'MultipleLines', 'InternetService', 'OnlineSecurity',\n",
              "       'OnlineBackup', 'DeviceProtection', 'TechSupport', 'StreamingTV',\n",
              "       'StreamingMovies', 'Contract', 'PaperlessBilling', 'PaymentMethod',\n",
              "       'MonthlyCharges', 'TotalCharges', 'Churn'],\n",
              "      dtype='object')"
            ]
          },
          "execution_count": 64,
          "metadata": {},
          "output_type": "execute_result"
        }
      ],
      "source": [
        "churn_data.columns"
      ]
    },
    {
      "cell_type": "code",
      "execution_count": null,
      "id": "48bfaf8a",
      "metadata": {
        "id": "48bfaf8a",
        "outputId": "f2799d22-6aea-4de1-bb49-794dd8c74b0e"
      },
      "outputs": [
        {
          "data": {
            "text/plain": [
              "20"
            ]
          },
          "execution_count": 65,
          "metadata": {},
          "output_type": "execute_result"
        }
      ],
      "source": [
        "len(churn_data.columns)"
      ]
    },
    {
      "cell_type": "code",
      "execution_count": null,
      "id": "036d668e",
      "metadata": {
        "id": "036d668e",
        "outputId": "a30c5cae-21bc-4ed2-d366-6a8e63c054af"
      },
      "outputs": [
        {
          "name": "stdout",
          "output_type": "stream",
          "text": [
            "How many values you want to input 5\n",
            "Enter the value 1\n",
            "Enter the value 2\n",
            "Enter the value 3\n",
            "Enter the value 4\n",
            "Enter the value 5\n"
          ]
        },
        {
          "data": {
            "text/plain": [
              "[1, 2, 3, 4, 5]"
            ]
          },
          "execution_count": 66,
          "metadata": {},
          "output_type": "execute_result"
        }
      ],
      "source": [
        "# You want to have a user-defined list\n",
        "l = []\n",
        "n = int(input('How many values you want to input '))\n",
        "for i in range(n):\n",
        "    a = int(input('Enter the value '))\n",
        "    l.append(a)\n",
        "l"
      ]
    },
    {
      "cell_type": "code",
      "execution_count": null,
      "id": "3238b405",
      "metadata": {
        "id": "3238b405",
        "outputId": "a68cb02e-17f2-41d0-f2ab-cfd41215678e"
      },
      "outputs": [
        {
          "name": "stdout",
          "output_type": "stream",
          "text": [
            "gender\n",
            "SeniorCitizen\n",
            "Partner\n",
            "Dependents\n",
            "tenure\n",
            "PhoneService\n",
            "MultipleLines\n",
            "InternetService\n",
            "OnlineSecurity\n",
            "OnlineBackup\n",
            "DeviceProtection\n",
            "TechSupport\n",
            "StreamingTV\n",
            "StreamingMovies\n",
            "Contract\n",
            "PaperlessBilling\n",
            "PaymentMethod\n",
            "MonthlyCharges\n",
            "TotalCharges\n",
            "Churn\n"
          ]
        }
      ],
      "source": [
        "col_list=[]\n",
        "for col in churn_data.columns:\n",
        "    print(col)"
      ]
    },
    {
      "cell_type": "code",
      "execution_count": null,
      "id": "d6e468ec",
      "metadata": {
        "id": "d6e468ec",
        "outputId": "de83d222-e0d1-4d73-9791-03d43a2421b9"
      },
      "outputs": [
        {
          "name": "stdout",
          "output_type": "stream",
          "text": [
            "['gender', 'Partner', 'Dependents', 'PhoneService', 'MultipleLines', 'InternetService', 'OnlineSecurity', 'OnlineBackup', 'DeviceProtection', 'TechSupport', 'StreamingTV', 'StreamingMovies', 'Contract', 'PaperlessBilling', 'PaymentMethod', 'Churn']\n"
          ]
        }
      ],
      "source": [
        "# Label encoding --> To convert object data to a numeric data\n",
        "#extract the object columns and convert the object to numeric\n",
        "col_list=[]\n",
        "for col in churn_data.columns:\n",
        "    if(churn_data[col].dtype==\"object\"):\n",
        "        col_list.append(col)\n",
        "print(col_list)"
      ]
    },
    {
      "cell_type": "code",
      "execution_count": null,
      "id": "82020dc3",
      "metadata": {
        "id": "82020dc3",
        "outputId": "b1a6bc77-ebfa-4491-9ae0-ea9433b9ce9a"
      },
      "outputs": [
        {
          "data": {
            "text/plain": [
              "list"
            ]
          },
          "execution_count": 75,
          "metadata": {},
          "output_type": "execute_result"
        }
      ],
      "source": [
        "type(col_list)"
      ]
    },
    {
      "cell_type": "code",
      "execution_count": null,
      "id": "9170326f",
      "metadata": {
        "id": "9170326f",
        "outputId": "64b54249-b3a1-4284-af61-f4272e3af6e3"
      },
      "outputs": [
        {
          "data": {
            "text/plain": [
              "'Churn'"
            ]
          },
          "execution_count": 77,
          "metadata": {},
          "output_type": "execute_result"
        }
      ],
      "source": [
        "col_list.pop(-1)"
      ]
    },
    {
      "cell_type": "code",
      "execution_count": null,
      "id": "4ac066d5",
      "metadata": {
        "id": "4ac066d5",
        "outputId": "1aaadcdc-a1a9-40c7-fd22-c84ba328b66c"
      },
      "outputs": [
        {
          "data": {
            "text/plain": [
              "['gender',\n",
              " 'Partner',\n",
              " 'Dependents',\n",
              " 'PhoneService',\n",
              " 'MultipleLines',\n",
              " 'InternetService',\n",
              " 'OnlineSecurity',\n",
              " 'OnlineBackup',\n",
              " 'DeviceProtection',\n",
              " 'TechSupport',\n",
              " 'StreamingTV',\n",
              " 'StreamingMovies',\n",
              " 'Contract',\n",
              " 'PaperlessBilling',\n",
              " 'PaymentMethod']"
            ]
          },
          "execution_count": 78,
          "metadata": {},
          "output_type": "execute_result"
        }
      ],
      "source": [
        "col_list"
      ]
    },
    {
      "cell_type": "code",
      "execution_count": null,
      "id": "7dfc018c",
      "metadata": {
        "id": "7dfc018c"
      },
      "outputs": [],
      "source": [
        "from sklearn.preprocessing import LabelEncoder"
      ]
    },
    {
      "cell_type": "code",
      "execution_count": null,
      "id": "a3efef1e",
      "metadata": {
        "id": "a3efef1e"
      },
      "outputs": [],
      "source": [
        "l1 = LabelEncoder()"
      ]
    },
    {
      "cell_type": "code",
      "execution_count": null,
      "id": "8106b45b",
      "metadata": {
        "id": "8106b45b",
        "outputId": "f30a5b6f-5bf4-426c-b1dd-2de6f15f3ba8"
      },
      "outputs": [
        {
          "name": "stderr",
          "output_type": "stream",
          "text": [
            "C:\\Users\\Dell\\AppData\\Local\\Temp\\ipykernel_8488\\1168583704.py:2: SettingWithCopyWarning: \n",
            "A value is trying to be set on a copy of a slice from a DataFrame.\n",
            "Try using .loc[row_indexer,col_indexer] = value instead\n",
            "\n",
            "See the caveats in the documentation: https://pandas.pydata.org/pandas-docs/stable/user_guide/indexing.html#returning-a-view-versus-a-copy\n",
            "  churn_data[i]=l1.fit_transform(churn_data[i])\n"
          ]
        }
      ],
      "source": [
        "for i in col_list:\n",
        "    churn_data[i]=l1.fit_transform(churn_data[i])\n",
        "# fit --> feeding the data, transform --> converting the data into numeric data type"
      ]
    },
    {
      "cell_type": "code",
      "execution_count": null,
      "id": "e15ae809",
      "metadata": {
        "id": "e15ae809"
      },
      "outputs": [],
      "source": [
        "# m --> 1, f -->0"
      ]
    },
    {
      "cell_type": "code",
      "execution_count": null,
      "id": "c004f96c",
      "metadata": {
        "scrolled": true,
        "id": "c004f96c",
        "outputId": "fddb7074-1cba-44ac-f9a0-788249f8de61"
      },
      "outputs": [
        {
          "data": {
            "text/html": [
              "<div>\n",
              "<style scoped>\n",
              "    .dataframe tbody tr th:only-of-type {\n",
              "        vertical-align: middle;\n",
              "    }\n",
              "\n",
              "    .dataframe tbody tr th {\n",
              "        vertical-align: top;\n",
              "    }\n",
              "\n",
              "    .dataframe thead th {\n",
              "        text-align: right;\n",
              "    }\n",
              "</style>\n",
              "<table border=\"1\" class=\"dataframe\">\n",
              "  <thead>\n",
              "    <tr style=\"text-align: right;\">\n",
              "      <th></th>\n",
              "      <th>gender</th>\n",
              "      <th>SeniorCitizen</th>\n",
              "      <th>Partner</th>\n",
              "      <th>Dependents</th>\n",
              "      <th>tenure</th>\n",
              "      <th>PhoneService</th>\n",
              "      <th>MultipleLines</th>\n",
              "      <th>InternetService</th>\n",
              "      <th>OnlineSecurity</th>\n",
              "      <th>OnlineBackup</th>\n",
              "      <th>DeviceProtection</th>\n",
              "      <th>TechSupport</th>\n",
              "      <th>StreamingTV</th>\n",
              "      <th>StreamingMovies</th>\n",
              "      <th>Contract</th>\n",
              "      <th>PaperlessBilling</th>\n",
              "      <th>PaymentMethod</th>\n",
              "      <th>MonthlyCharges</th>\n",
              "      <th>TotalCharges</th>\n",
              "      <th>Churn</th>\n",
              "    </tr>\n",
              "  </thead>\n",
              "  <tbody>\n",
              "    <tr>\n",
              "      <th>0</th>\n",
              "      <td>0</td>\n",
              "      <td>0</td>\n",
              "      <td>1</td>\n",
              "      <td>0</td>\n",
              "      <td>1</td>\n",
              "      <td>0</td>\n",
              "      <td>1</td>\n",
              "      <td>0</td>\n",
              "      <td>0</td>\n",
              "      <td>2</td>\n",
              "      <td>0</td>\n",
              "      <td>0</td>\n",
              "      <td>0</td>\n",
              "      <td>0</td>\n",
              "      <td>0</td>\n",
              "      <td>1</td>\n",
              "      <td>2</td>\n",
              "      <td>29.85</td>\n",
              "      <td>29.85</td>\n",
              "      <td>No</td>\n",
              "    </tr>\n",
              "    <tr>\n",
              "      <th>1</th>\n",
              "      <td>1</td>\n",
              "      <td>0</td>\n",
              "      <td>0</td>\n",
              "      <td>0</td>\n",
              "      <td>34</td>\n",
              "      <td>1</td>\n",
              "      <td>0</td>\n",
              "      <td>0</td>\n",
              "      <td>2</td>\n",
              "      <td>0</td>\n",
              "      <td>2</td>\n",
              "      <td>0</td>\n",
              "      <td>0</td>\n",
              "      <td>0</td>\n",
              "      <td>1</td>\n",
              "      <td>0</td>\n",
              "      <td>3</td>\n",
              "      <td>56.95</td>\n",
              "      <td>1889.50</td>\n",
              "      <td>No</td>\n",
              "    </tr>\n",
              "    <tr>\n",
              "      <th>2</th>\n",
              "      <td>1</td>\n",
              "      <td>0</td>\n",
              "      <td>0</td>\n",
              "      <td>0</td>\n",
              "      <td>2</td>\n",
              "      <td>1</td>\n",
              "      <td>0</td>\n",
              "      <td>0</td>\n",
              "      <td>2</td>\n",
              "      <td>2</td>\n",
              "      <td>0</td>\n",
              "      <td>0</td>\n",
              "      <td>0</td>\n",
              "      <td>0</td>\n",
              "      <td>0</td>\n",
              "      <td>1</td>\n",
              "      <td>3</td>\n",
              "      <td>53.85</td>\n",
              "      <td>108.15</td>\n",
              "      <td>Yes</td>\n",
              "    </tr>\n",
              "    <tr>\n",
              "      <th>3</th>\n",
              "      <td>1</td>\n",
              "      <td>0</td>\n",
              "      <td>0</td>\n",
              "      <td>0</td>\n",
              "      <td>45</td>\n",
              "      <td>0</td>\n",
              "      <td>1</td>\n",
              "      <td>0</td>\n",
              "      <td>2</td>\n",
              "      <td>0</td>\n",
              "      <td>2</td>\n",
              "      <td>2</td>\n",
              "      <td>0</td>\n",
              "      <td>0</td>\n",
              "      <td>1</td>\n",
              "      <td>0</td>\n",
              "      <td>0</td>\n",
              "      <td>42.30</td>\n",
              "      <td>1840.75</td>\n",
              "      <td>No</td>\n",
              "    </tr>\n",
              "    <tr>\n",
              "      <th>4</th>\n",
              "      <td>0</td>\n",
              "      <td>0</td>\n",
              "      <td>0</td>\n",
              "      <td>0</td>\n",
              "      <td>2</td>\n",
              "      <td>1</td>\n",
              "      <td>0</td>\n",
              "      <td>1</td>\n",
              "      <td>0</td>\n",
              "      <td>0</td>\n",
              "      <td>0</td>\n",
              "      <td>0</td>\n",
              "      <td>0</td>\n",
              "      <td>0</td>\n",
              "      <td>0</td>\n",
              "      <td>1</td>\n",
              "      <td>2</td>\n",
              "      <td>70.70</td>\n",
              "      <td>151.65</td>\n",
              "      <td>Yes</td>\n",
              "    </tr>\n",
              "    <tr>\n",
              "      <th>5</th>\n",
              "      <td>0</td>\n",
              "      <td>0</td>\n",
              "      <td>0</td>\n",
              "      <td>0</td>\n",
              "      <td>8</td>\n",
              "      <td>1</td>\n",
              "      <td>2</td>\n",
              "      <td>1</td>\n",
              "      <td>0</td>\n",
              "      <td>0</td>\n",
              "      <td>2</td>\n",
              "      <td>0</td>\n",
              "      <td>2</td>\n",
              "      <td>2</td>\n",
              "      <td>0</td>\n",
              "      <td>1</td>\n",
              "      <td>2</td>\n",
              "      <td>99.65</td>\n",
              "      <td>820.50</td>\n",
              "      <td>Yes</td>\n",
              "    </tr>\n",
              "    <tr>\n",
              "      <th>6</th>\n",
              "      <td>1</td>\n",
              "      <td>0</td>\n",
              "      <td>0</td>\n",
              "      <td>1</td>\n",
              "      <td>22</td>\n",
              "      <td>1</td>\n",
              "      <td>2</td>\n",
              "      <td>1</td>\n",
              "      <td>0</td>\n",
              "      <td>2</td>\n",
              "      <td>0</td>\n",
              "      <td>0</td>\n",
              "      <td>2</td>\n",
              "      <td>0</td>\n",
              "      <td>0</td>\n",
              "      <td>1</td>\n",
              "      <td>1</td>\n",
              "      <td>89.10</td>\n",
              "      <td>1949.40</td>\n",
              "      <td>No</td>\n",
              "    </tr>\n",
              "    <tr>\n",
              "      <th>7</th>\n",
              "      <td>0</td>\n",
              "      <td>0</td>\n",
              "      <td>0</td>\n",
              "      <td>0</td>\n",
              "      <td>10</td>\n",
              "      <td>0</td>\n",
              "      <td>1</td>\n",
              "      <td>0</td>\n",
              "      <td>2</td>\n",
              "      <td>0</td>\n",
              "      <td>0</td>\n",
              "      <td>0</td>\n",
              "      <td>0</td>\n",
              "      <td>0</td>\n",
              "      <td>0</td>\n",
              "      <td>0</td>\n",
              "      <td>3</td>\n",
              "      <td>29.75</td>\n",
              "      <td>301.90</td>\n",
              "      <td>No</td>\n",
              "    </tr>\n",
              "    <tr>\n",
              "      <th>8</th>\n",
              "      <td>0</td>\n",
              "      <td>0</td>\n",
              "      <td>1</td>\n",
              "      <td>0</td>\n",
              "      <td>28</td>\n",
              "      <td>1</td>\n",
              "      <td>2</td>\n",
              "      <td>1</td>\n",
              "      <td>0</td>\n",
              "      <td>0</td>\n",
              "      <td>2</td>\n",
              "      <td>2</td>\n",
              "      <td>2</td>\n",
              "      <td>2</td>\n",
              "      <td>0</td>\n",
              "      <td>1</td>\n",
              "      <td>2</td>\n",
              "      <td>104.80</td>\n",
              "      <td>3046.05</td>\n",
              "      <td>Yes</td>\n",
              "    </tr>\n",
              "    <tr>\n",
              "      <th>9</th>\n",
              "      <td>1</td>\n",
              "      <td>0</td>\n",
              "      <td>0</td>\n",
              "      <td>1</td>\n",
              "      <td>62</td>\n",
              "      <td>1</td>\n",
              "      <td>0</td>\n",
              "      <td>0</td>\n",
              "      <td>2</td>\n",
              "      <td>2</td>\n",
              "      <td>0</td>\n",
              "      <td>0</td>\n",
              "      <td>0</td>\n",
              "      <td>0</td>\n",
              "      <td>1</td>\n",
              "      <td>0</td>\n",
              "      <td>0</td>\n",
              "      <td>56.15</td>\n",
              "      <td>3487.95</td>\n",
              "      <td>No</td>\n",
              "    </tr>\n",
              "    <tr>\n",
              "      <th>10</th>\n",
              "      <td>1</td>\n",
              "      <td>0</td>\n",
              "      <td>1</td>\n",
              "      <td>1</td>\n",
              "      <td>13</td>\n",
              "      <td>1</td>\n",
              "      <td>0</td>\n",
              "      <td>0</td>\n",
              "      <td>2</td>\n",
              "      <td>0</td>\n",
              "      <td>0</td>\n",
              "      <td>0</td>\n",
              "      <td>0</td>\n",
              "      <td>0</td>\n",
              "      <td>0</td>\n",
              "      <td>1</td>\n",
              "      <td>3</td>\n",
              "      <td>49.95</td>\n",
              "      <td>587.45</td>\n",
              "      <td>No</td>\n",
              "    </tr>\n",
              "    <tr>\n",
              "      <th>11</th>\n",
              "      <td>1</td>\n",
              "      <td>0</td>\n",
              "      <td>0</td>\n",
              "      <td>0</td>\n",
              "      <td>16</td>\n",
              "      <td>1</td>\n",
              "      <td>0</td>\n",
              "      <td>2</td>\n",
              "      <td>1</td>\n",
              "      <td>1</td>\n",
              "      <td>1</td>\n",
              "      <td>1</td>\n",
              "      <td>1</td>\n",
              "      <td>1</td>\n",
              "      <td>2</td>\n",
              "      <td>0</td>\n",
              "      <td>1</td>\n",
              "      <td>18.95</td>\n",
              "      <td>326.80</td>\n",
              "      <td>No</td>\n",
              "    </tr>\n",
              "    <tr>\n",
              "      <th>12</th>\n",
              "      <td>1</td>\n",
              "      <td>0</td>\n",
              "      <td>1</td>\n",
              "      <td>0</td>\n",
              "      <td>58</td>\n",
              "      <td>1</td>\n",
              "      <td>2</td>\n",
              "      <td>1</td>\n",
              "      <td>0</td>\n",
              "      <td>0</td>\n",
              "      <td>2</td>\n",
              "      <td>0</td>\n",
              "      <td>2</td>\n",
              "      <td>2</td>\n",
              "      <td>1</td>\n",
              "      <td>0</td>\n",
              "      <td>1</td>\n",
              "      <td>100.35</td>\n",
              "      <td>5681.10</td>\n",
              "      <td>No</td>\n",
              "    </tr>\n",
              "    <tr>\n",
              "      <th>13</th>\n",
              "      <td>1</td>\n",
              "      <td>0</td>\n",
              "      <td>0</td>\n",
              "      <td>0</td>\n",
              "      <td>49</td>\n",
              "      <td>1</td>\n",
              "      <td>2</td>\n",
              "      <td>1</td>\n",
              "      <td>0</td>\n",
              "      <td>2</td>\n",
              "      <td>2</td>\n",
              "      <td>0</td>\n",
              "      <td>2</td>\n",
              "      <td>2</td>\n",
              "      <td>0</td>\n",
              "      <td>1</td>\n",
              "      <td>0</td>\n",
              "      <td>103.70</td>\n",
              "      <td>5036.30</td>\n",
              "      <td>Yes</td>\n",
              "    </tr>\n",
              "    <tr>\n",
              "      <th>14</th>\n",
              "      <td>1</td>\n",
              "      <td>0</td>\n",
              "      <td>0</td>\n",
              "      <td>0</td>\n",
              "      <td>25</td>\n",
              "      <td>1</td>\n",
              "      <td>0</td>\n",
              "      <td>1</td>\n",
              "      <td>2</td>\n",
              "      <td>0</td>\n",
              "      <td>2</td>\n",
              "      <td>2</td>\n",
              "      <td>2</td>\n",
              "      <td>2</td>\n",
              "      <td>0</td>\n",
              "      <td>1</td>\n",
              "      <td>2</td>\n",
              "      <td>105.50</td>\n",
              "      <td>2686.05</td>\n",
              "      <td>No</td>\n",
              "    </tr>\n",
              "    <tr>\n",
              "      <th>15</th>\n",
              "      <td>0</td>\n",
              "      <td>0</td>\n",
              "      <td>1</td>\n",
              "      <td>1</td>\n",
              "      <td>69</td>\n",
              "      <td>1</td>\n",
              "      <td>2</td>\n",
              "      <td>1</td>\n",
              "      <td>2</td>\n",
              "      <td>2</td>\n",
              "      <td>2</td>\n",
              "      <td>2</td>\n",
              "      <td>2</td>\n",
              "      <td>2</td>\n",
              "      <td>2</td>\n",
              "      <td>0</td>\n",
              "      <td>1</td>\n",
              "      <td>113.25</td>\n",
              "      <td>7895.15</td>\n",
              "      <td>No</td>\n",
              "    </tr>\n",
              "    <tr>\n",
              "      <th>16</th>\n",
              "      <td>0</td>\n",
              "      <td>0</td>\n",
              "      <td>0</td>\n",
              "      <td>0</td>\n",
              "      <td>52</td>\n",
              "      <td>1</td>\n",
              "      <td>0</td>\n",
              "      <td>2</td>\n",
              "      <td>1</td>\n",
              "      <td>1</td>\n",
              "      <td>1</td>\n",
              "      <td>1</td>\n",
              "      <td>1</td>\n",
              "      <td>1</td>\n",
              "      <td>1</td>\n",
              "      <td>0</td>\n",
              "      <td>3</td>\n",
              "      <td>20.65</td>\n",
              "      <td>1022.95</td>\n",
              "      <td>No</td>\n",
              "    </tr>\n",
              "    <tr>\n",
              "      <th>17</th>\n",
              "      <td>1</td>\n",
              "      <td>0</td>\n",
              "      <td>0</td>\n",
              "      <td>1</td>\n",
              "      <td>71</td>\n",
              "      <td>1</td>\n",
              "      <td>2</td>\n",
              "      <td>1</td>\n",
              "      <td>2</td>\n",
              "      <td>0</td>\n",
              "      <td>2</td>\n",
              "      <td>0</td>\n",
              "      <td>2</td>\n",
              "      <td>2</td>\n",
              "      <td>2</td>\n",
              "      <td>0</td>\n",
              "      <td>0</td>\n",
              "      <td>106.70</td>\n",
              "      <td>7382.25</td>\n",
              "      <td>No</td>\n",
              "    </tr>\n",
              "    <tr>\n",
              "      <th>18</th>\n",
              "      <td>0</td>\n",
              "      <td>0</td>\n",
              "      <td>1</td>\n",
              "      <td>1</td>\n",
              "      <td>10</td>\n",
              "      <td>1</td>\n",
              "      <td>0</td>\n",
              "      <td>0</td>\n",
              "      <td>0</td>\n",
              "      <td>0</td>\n",
              "      <td>2</td>\n",
              "      <td>2</td>\n",
              "      <td>0</td>\n",
              "      <td>0</td>\n",
              "      <td>0</td>\n",
              "      <td>0</td>\n",
              "      <td>1</td>\n",
              "      <td>55.20</td>\n",
              "      <td>528.35</td>\n",
              "      <td>Yes</td>\n",
              "    </tr>\n",
              "    <tr>\n",
              "      <th>19</th>\n",
              "      <td>0</td>\n",
              "      <td>0</td>\n",
              "      <td>0</td>\n",
              "      <td>0</td>\n",
              "      <td>21</td>\n",
              "      <td>1</td>\n",
              "      <td>0</td>\n",
              "      <td>1</td>\n",
              "      <td>0</td>\n",
              "      <td>2</td>\n",
              "      <td>2</td>\n",
              "      <td>0</td>\n",
              "      <td>0</td>\n",
              "      <td>2</td>\n",
              "      <td>0</td>\n",
              "      <td>1</td>\n",
              "      <td>2</td>\n",
              "      <td>90.05</td>\n",
              "      <td>1862.90</td>\n",
              "      <td>No</td>\n",
              "    </tr>\n",
              "  </tbody>\n",
              "</table>\n",
              "</div>"
            ],
            "text/plain": [
              "    gender  SeniorCitizen  Partner  Dependents  tenure  PhoneService  \\\n",
              "0        0              0        1           0       1             0   \n",
              "1        1              0        0           0      34             1   \n",
              "2        1              0        0           0       2             1   \n",
              "3        1              0        0           0      45             0   \n",
              "4        0              0        0           0       2             1   \n",
              "5        0              0        0           0       8             1   \n",
              "6        1              0        0           1      22             1   \n",
              "7        0              0        0           0      10             0   \n",
              "8        0              0        1           0      28             1   \n",
              "9        1              0        0           1      62             1   \n",
              "10       1              0        1           1      13             1   \n",
              "11       1              0        0           0      16             1   \n",
              "12       1              0        1           0      58             1   \n",
              "13       1              0        0           0      49             1   \n",
              "14       1              0        0           0      25             1   \n",
              "15       0              0        1           1      69             1   \n",
              "16       0              0        0           0      52             1   \n",
              "17       1              0        0           1      71             1   \n",
              "18       0              0        1           1      10             1   \n",
              "19       0              0        0           0      21             1   \n",
              "\n",
              "    MultipleLines  InternetService  OnlineSecurity  OnlineBackup  \\\n",
              "0               1                0               0             2   \n",
              "1               0                0               2             0   \n",
              "2               0                0               2             2   \n",
              "3               1                0               2             0   \n",
              "4               0                1               0             0   \n",
              "5               2                1               0             0   \n",
              "6               2                1               0             2   \n",
              "7               1                0               2             0   \n",
              "8               2                1               0             0   \n",
              "9               0                0               2             2   \n",
              "10              0                0               2             0   \n",
              "11              0                2               1             1   \n",
              "12              2                1               0             0   \n",
              "13              2                1               0             2   \n",
              "14              0                1               2             0   \n",
              "15              2                1               2             2   \n",
              "16              0                2               1             1   \n",
              "17              2                1               2             0   \n",
              "18              0                0               0             0   \n",
              "19              0                1               0             2   \n",
              "\n",
              "    DeviceProtection  TechSupport  StreamingTV  StreamingMovies  Contract  \\\n",
              "0                  0            0            0                0         0   \n",
              "1                  2            0            0                0         1   \n",
              "2                  0            0            0                0         0   \n",
              "3                  2            2            0                0         1   \n",
              "4                  0            0            0                0         0   \n",
              "5                  2            0            2                2         0   \n",
              "6                  0            0            2                0         0   \n",
              "7                  0            0            0                0         0   \n",
              "8                  2            2            2                2         0   \n",
              "9                  0            0            0                0         1   \n",
              "10                 0            0            0                0         0   \n",
              "11                 1            1            1                1         2   \n",
              "12                 2            0            2                2         1   \n",
              "13                 2            0            2                2         0   \n",
              "14                 2            2            2                2         0   \n",
              "15                 2            2            2                2         2   \n",
              "16                 1            1            1                1         1   \n",
              "17                 2            0            2                2         2   \n",
              "18                 2            2            0                0         0   \n",
              "19                 2            0            0                2         0   \n",
              "\n",
              "    PaperlessBilling  PaymentMethod  MonthlyCharges  TotalCharges Churn  \n",
              "0                  1              2           29.85         29.85    No  \n",
              "1                  0              3           56.95       1889.50    No  \n",
              "2                  1              3           53.85        108.15   Yes  \n",
              "3                  0              0           42.30       1840.75    No  \n",
              "4                  1              2           70.70        151.65   Yes  \n",
              "5                  1              2           99.65        820.50   Yes  \n",
              "6                  1              1           89.10       1949.40    No  \n",
              "7                  0              3           29.75        301.90    No  \n",
              "8                  1              2          104.80       3046.05   Yes  \n",
              "9                  0              0           56.15       3487.95    No  \n",
              "10                 1              3           49.95        587.45    No  \n",
              "11                 0              1           18.95        326.80    No  \n",
              "12                 0              1          100.35       5681.10    No  \n",
              "13                 1              0          103.70       5036.30   Yes  \n",
              "14                 1              2          105.50       2686.05    No  \n",
              "15                 0              1          113.25       7895.15    No  \n",
              "16                 0              3           20.65       1022.95    No  \n",
              "17                 0              0          106.70       7382.25    No  \n",
              "18                 0              1           55.20        528.35   Yes  \n",
              "19                 1              2           90.05       1862.90    No  "
            ]
          },
          "execution_count": 82,
          "metadata": {},
          "output_type": "execute_result"
        }
      ],
      "source": [
        "churn_data.head(20)"
      ]
    },
    {
      "cell_type": "code",
      "execution_count": null,
      "id": "603c7a18",
      "metadata": {
        "id": "603c7a18",
        "outputId": "ac5412a0-d880-4024-b664-9dfaab5f90fb"
      },
      "outputs": [
        {
          "name": "stdout",
          "output_type": "stream",
          "text": [
            "<class 'pandas.core.frame.DataFrame'>\n",
            "Int64Index: 7032 entries, 0 to 7042\n",
            "Data columns (total 20 columns):\n",
            " #   Column            Non-Null Count  Dtype  \n",
            "---  ------            --------------  -----  \n",
            " 0   gender            7032 non-null   int32  \n",
            " 1   SeniorCitizen     7032 non-null   int64  \n",
            " 2   Partner           7032 non-null   int32  \n",
            " 3   Dependents        7032 non-null   int32  \n",
            " 4   tenure            7032 non-null   int64  \n",
            " 5   PhoneService      7032 non-null   int32  \n",
            " 6   MultipleLines     7032 non-null   int32  \n",
            " 7   InternetService   7032 non-null   int32  \n",
            " 8   OnlineSecurity    7032 non-null   int32  \n",
            " 9   OnlineBackup      7032 non-null   int32  \n",
            " 10  DeviceProtection  7032 non-null   int32  \n",
            " 11  TechSupport       7032 non-null   int32  \n",
            " 12  StreamingTV       7032 non-null   int32  \n",
            " 13  StreamingMovies   7032 non-null   int32  \n",
            " 14  Contract          7032 non-null   int32  \n",
            " 15  PaperlessBilling  7032 non-null   int32  \n",
            " 16  PaymentMethod     7032 non-null   int32  \n",
            " 17  MonthlyCharges    7032 non-null   float64\n",
            " 18  TotalCharges      7032 non-null   float64\n",
            " 19  Churn             7032 non-null   object \n",
            "dtypes: float64(2), int32(15), int64(2), object(1)\n",
            "memory usage: 741.7+ KB\n"
          ]
        }
      ],
      "source": [
        "churn_data.info()"
      ]
    },
    {
      "cell_type": "code",
      "execution_count": null,
      "id": "d1fa2b0d",
      "metadata": {
        "id": "d1fa2b0d",
        "outputId": "fc3806b0-5fa3-4165-8507-684f86214c10"
      },
      "outputs": [
        {
          "data": {
            "text/html": [
              "<div>\n",
              "<style scoped>\n",
              "    .dataframe tbody tr th:only-of-type {\n",
              "        vertical-align: middle;\n",
              "    }\n",
              "\n",
              "    .dataframe tbody tr th {\n",
              "        vertical-align: top;\n",
              "    }\n",
              "\n",
              "    .dataframe thead th {\n",
              "        text-align: right;\n",
              "    }\n",
              "</style>\n",
              "<table border=\"1\" class=\"dataframe\">\n",
              "  <thead>\n",
              "    <tr style=\"text-align: right;\">\n",
              "      <th></th>\n",
              "      <th>gender</th>\n",
              "      <th>SeniorCitizen</th>\n",
              "      <th>Partner</th>\n",
              "      <th>Dependents</th>\n",
              "      <th>tenure</th>\n",
              "      <th>PhoneService</th>\n",
              "      <th>MultipleLines</th>\n",
              "      <th>InternetService</th>\n",
              "      <th>OnlineSecurity</th>\n",
              "      <th>OnlineBackup</th>\n",
              "      <th>DeviceProtection</th>\n",
              "      <th>TechSupport</th>\n",
              "      <th>StreamingTV</th>\n",
              "      <th>StreamingMovies</th>\n",
              "      <th>Contract</th>\n",
              "      <th>PaperlessBilling</th>\n",
              "      <th>PaymentMethod</th>\n",
              "      <th>MonthlyCharges</th>\n",
              "      <th>TotalCharges</th>\n",
              "    </tr>\n",
              "  </thead>\n",
              "  <tbody>\n",
              "    <tr>\n",
              "      <th>count</th>\n",
              "      <td>7032.000000</td>\n",
              "      <td>7032.000000</td>\n",
              "      <td>7032.000000</td>\n",
              "      <td>7032.000000</td>\n",
              "      <td>7032.000000</td>\n",
              "      <td>7032.000000</td>\n",
              "      <td>7032.000000</td>\n",
              "      <td>7032.000000</td>\n",
              "      <td>7032.000000</td>\n",
              "      <td>7032.000000</td>\n",
              "      <td>7032.000000</td>\n",
              "      <td>7032.000000</td>\n",
              "      <td>7032.000000</td>\n",
              "      <td>7032.000000</td>\n",
              "      <td>7032.000000</td>\n",
              "      <td>7032.000000</td>\n",
              "      <td>7032.000000</td>\n",
              "      <td>7032.000000</td>\n",
              "      <td>7032.000000</td>\n",
              "    </tr>\n",
              "    <tr>\n",
              "      <th>mean</th>\n",
              "      <td>0.504693</td>\n",
              "      <td>0.162400</td>\n",
              "      <td>0.482509</td>\n",
              "      <td>0.298493</td>\n",
              "      <td>32.421786</td>\n",
              "      <td>0.903299</td>\n",
              "      <td>0.940557</td>\n",
              "      <td>0.872582</td>\n",
              "      <td>0.789249</td>\n",
              "      <td>0.905859</td>\n",
              "      <td>0.903868</td>\n",
              "      <td>0.796359</td>\n",
              "      <td>0.984926</td>\n",
              "      <td>0.992890</td>\n",
              "      <td>0.688567</td>\n",
              "      <td>0.592719</td>\n",
              "      <td>1.573237</td>\n",
              "      <td>64.798208</td>\n",
              "      <td>2283.300441</td>\n",
              "    </tr>\n",
              "    <tr>\n",
              "      <th>std</th>\n",
              "      <td>0.500014</td>\n",
              "      <td>0.368844</td>\n",
              "      <td>0.499729</td>\n",
              "      <td>0.457629</td>\n",
              "      <td>24.545260</td>\n",
              "      <td>0.295571</td>\n",
              "      <td>0.948627</td>\n",
              "      <td>0.737271</td>\n",
              "      <td>0.859962</td>\n",
              "      <td>0.880394</td>\n",
              "      <td>0.880178</td>\n",
              "      <td>0.861674</td>\n",
              "      <td>0.885285</td>\n",
              "      <td>0.885385</td>\n",
              "      <td>0.832934</td>\n",
              "      <td>0.491363</td>\n",
              "      <td>1.067504</td>\n",
              "      <td>30.085974</td>\n",
              "      <td>2266.771362</td>\n",
              "    </tr>\n",
              "    <tr>\n",
              "      <th>min</th>\n",
              "      <td>0.000000</td>\n",
              "      <td>0.000000</td>\n",
              "      <td>0.000000</td>\n",
              "      <td>0.000000</td>\n",
              "      <td>1.000000</td>\n",
              "      <td>0.000000</td>\n",
              "      <td>0.000000</td>\n",
              "      <td>0.000000</td>\n",
              "      <td>0.000000</td>\n",
              "      <td>0.000000</td>\n",
              "      <td>0.000000</td>\n",
              "      <td>0.000000</td>\n",
              "      <td>0.000000</td>\n",
              "      <td>0.000000</td>\n",
              "      <td>0.000000</td>\n",
              "      <td>0.000000</td>\n",
              "      <td>0.000000</td>\n",
              "      <td>18.250000</td>\n",
              "      <td>18.800000</td>\n",
              "    </tr>\n",
              "    <tr>\n",
              "      <th>25%</th>\n",
              "      <td>0.000000</td>\n",
              "      <td>0.000000</td>\n",
              "      <td>0.000000</td>\n",
              "      <td>0.000000</td>\n",
              "      <td>9.000000</td>\n",
              "      <td>1.000000</td>\n",
              "      <td>0.000000</td>\n",
              "      <td>0.000000</td>\n",
              "      <td>0.000000</td>\n",
              "      <td>0.000000</td>\n",
              "      <td>0.000000</td>\n",
              "      <td>0.000000</td>\n",
              "      <td>0.000000</td>\n",
              "      <td>0.000000</td>\n",
              "      <td>0.000000</td>\n",
              "      <td>0.000000</td>\n",
              "      <td>1.000000</td>\n",
              "      <td>35.587500</td>\n",
              "      <td>401.450000</td>\n",
              "    </tr>\n",
              "    <tr>\n",
              "      <th>50%</th>\n",
              "      <td>1.000000</td>\n",
              "      <td>0.000000</td>\n",
              "      <td>0.000000</td>\n",
              "      <td>0.000000</td>\n",
              "      <td>29.000000</td>\n",
              "      <td>1.000000</td>\n",
              "      <td>1.000000</td>\n",
              "      <td>1.000000</td>\n",
              "      <td>1.000000</td>\n",
              "      <td>1.000000</td>\n",
              "      <td>1.000000</td>\n",
              "      <td>1.000000</td>\n",
              "      <td>1.000000</td>\n",
              "      <td>1.000000</td>\n",
              "      <td>0.000000</td>\n",
              "      <td>1.000000</td>\n",
              "      <td>2.000000</td>\n",
              "      <td>70.350000</td>\n",
              "      <td>1397.475000</td>\n",
              "    </tr>\n",
              "    <tr>\n",
              "      <th>75%</th>\n",
              "      <td>1.000000</td>\n",
              "      <td>0.000000</td>\n",
              "      <td>1.000000</td>\n",
              "      <td>1.000000</td>\n",
              "      <td>55.000000</td>\n",
              "      <td>1.000000</td>\n",
              "      <td>2.000000</td>\n",
              "      <td>1.000000</td>\n",
              "      <td>2.000000</td>\n",
              "      <td>2.000000</td>\n",
              "      <td>2.000000</td>\n",
              "      <td>2.000000</td>\n",
              "      <td>2.000000</td>\n",
              "      <td>2.000000</td>\n",
              "      <td>1.000000</td>\n",
              "      <td>1.000000</td>\n",
              "      <td>2.000000</td>\n",
              "      <td>89.862500</td>\n",
              "      <td>3794.737500</td>\n",
              "    </tr>\n",
              "    <tr>\n",
              "      <th>max</th>\n",
              "      <td>1.000000</td>\n",
              "      <td>1.000000</td>\n",
              "      <td>1.000000</td>\n",
              "      <td>1.000000</td>\n",
              "      <td>72.000000</td>\n",
              "      <td>1.000000</td>\n",
              "      <td>2.000000</td>\n",
              "      <td>2.000000</td>\n",
              "      <td>2.000000</td>\n",
              "      <td>2.000000</td>\n",
              "      <td>2.000000</td>\n",
              "      <td>2.000000</td>\n",
              "      <td>2.000000</td>\n",
              "      <td>2.000000</td>\n",
              "      <td>2.000000</td>\n",
              "      <td>1.000000</td>\n",
              "      <td>3.000000</td>\n",
              "      <td>118.750000</td>\n",
              "      <td>8684.800000</td>\n",
              "    </tr>\n",
              "  </tbody>\n",
              "</table>\n",
              "</div>"
            ],
            "text/plain": [
              "            gender  SeniorCitizen      Partner   Dependents       tenure  \\\n",
              "count  7032.000000    7032.000000  7032.000000  7032.000000  7032.000000   \n",
              "mean      0.504693       0.162400     0.482509     0.298493    32.421786   \n",
              "std       0.500014       0.368844     0.499729     0.457629    24.545260   \n",
              "min       0.000000       0.000000     0.000000     0.000000     1.000000   \n",
              "25%       0.000000       0.000000     0.000000     0.000000     9.000000   \n",
              "50%       1.000000       0.000000     0.000000     0.000000    29.000000   \n",
              "75%       1.000000       0.000000     1.000000     1.000000    55.000000   \n",
              "max       1.000000       1.000000     1.000000     1.000000    72.000000   \n",
              "\n",
              "       PhoneService  MultipleLines  InternetService  OnlineSecurity  \\\n",
              "count   7032.000000    7032.000000      7032.000000     7032.000000   \n",
              "mean       0.903299       0.940557         0.872582        0.789249   \n",
              "std        0.295571       0.948627         0.737271        0.859962   \n",
              "min        0.000000       0.000000         0.000000        0.000000   \n",
              "25%        1.000000       0.000000         0.000000        0.000000   \n",
              "50%        1.000000       1.000000         1.000000        1.000000   \n",
              "75%        1.000000       2.000000         1.000000        2.000000   \n",
              "max        1.000000       2.000000         2.000000        2.000000   \n",
              "\n",
              "       OnlineBackup  DeviceProtection  TechSupport  StreamingTV  \\\n",
              "count   7032.000000       7032.000000  7032.000000  7032.000000   \n",
              "mean       0.905859          0.903868     0.796359     0.984926   \n",
              "std        0.880394          0.880178     0.861674     0.885285   \n",
              "min        0.000000          0.000000     0.000000     0.000000   \n",
              "25%        0.000000          0.000000     0.000000     0.000000   \n",
              "50%        1.000000          1.000000     1.000000     1.000000   \n",
              "75%        2.000000          2.000000     2.000000     2.000000   \n",
              "max        2.000000          2.000000     2.000000     2.000000   \n",
              "\n",
              "       StreamingMovies     Contract  PaperlessBilling  PaymentMethod  \\\n",
              "count      7032.000000  7032.000000       7032.000000    7032.000000   \n",
              "mean          0.992890     0.688567          0.592719       1.573237   \n",
              "std           0.885385     0.832934          0.491363       1.067504   \n",
              "min           0.000000     0.000000          0.000000       0.000000   \n",
              "25%           0.000000     0.000000          0.000000       1.000000   \n",
              "50%           1.000000     0.000000          1.000000       2.000000   \n",
              "75%           2.000000     1.000000          1.000000       2.000000   \n",
              "max           2.000000     2.000000          1.000000       3.000000   \n",
              "\n",
              "       MonthlyCharges  TotalCharges  \n",
              "count     7032.000000   7032.000000  \n",
              "mean        64.798208   2283.300441  \n",
              "std         30.085974   2266.771362  \n",
              "min         18.250000     18.800000  \n",
              "25%         35.587500    401.450000  \n",
              "50%         70.350000   1397.475000  \n",
              "75%         89.862500   3794.737500  \n",
              "max        118.750000   8684.800000  "
            ]
          },
          "execution_count": 84,
          "metadata": {},
          "output_type": "execute_result"
        }
      ],
      "source": [
        "churn_data.describe() # To provide some stats analysis"
      ]
    },
    {
      "cell_type": "code",
      "execution_count": null,
      "id": "4d3760bb",
      "metadata": {
        "id": "4d3760bb",
        "outputId": "0d771387-f92f-4cce-d86e-3f534d6c8eb9"
      },
      "outputs": [
        {
          "data": {
            "text/plain": [
              "gender                int32\n",
              "SeniorCitizen         int64\n",
              "Partner               int32\n",
              "Dependents            int32\n",
              "tenure                int64\n",
              "PhoneService          int32\n",
              "MultipleLines         int32\n",
              "InternetService       int32\n",
              "OnlineSecurity        int32\n",
              "OnlineBackup          int32\n",
              "DeviceProtection      int32\n",
              "TechSupport           int32\n",
              "StreamingTV           int32\n",
              "StreamingMovies       int32\n",
              "Contract              int32\n",
              "PaperlessBilling      int32\n",
              "PaymentMethod         int32\n",
              "MonthlyCharges      float64\n",
              "TotalCharges        float64\n",
              "Churn                object\n",
              "dtype: object"
            ]
          },
          "execution_count": 85,
          "metadata": {},
          "output_type": "execute_result"
        }
      ],
      "source": [
        "churn_data.dtypes"
      ]
    },
    {
      "cell_type": "code",
      "execution_count": null,
      "id": "e4cd777a",
      "metadata": {
        "id": "e4cd777a",
        "outputId": "13996f65-6a4c-4444-aa8f-f7eaee6e4cb9"
      },
      "outputs": [
        {
          "data": {
            "text/plain": [
              "1    3549\n",
              "0    3483\n",
              "Name: gender, dtype: int64"
            ]
          },
          "execution_count": 86,
          "metadata": {},
          "output_type": "execute_result"
        }
      ],
      "source": [
        "churn_data[\"gender\"].value_counts()\n"
      ]
    },
    {
      "cell_type": "code",
      "execution_count": null,
      "id": "eea0281d",
      "metadata": {
        "id": "eea0281d",
        "outputId": "1f7f57e9-39e1-4218-d0ac-3d876d6a084c"
      },
      "outputs": [
        {
          "data": {
            "text/plain": [
              "1     613\n",
              "72    362\n",
              "2     238\n",
              "3     200\n",
              "4     176\n",
              "     ... \n",
              "38     59\n",
              "28     57\n",
              "39     56\n",
              "44     51\n",
              "36     50\n",
              "Name: tenure, Length: 72, dtype: int64"
            ]
          },
          "execution_count": 87,
          "metadata": {},
          "output_type": "execute_result"
        }
      ],
      "source": [
        "churn_data[\"tenure\"].value_counts()"
      ]
    },
    {
      "cell_type": "code",
      "execution_count": null,
      "id": "d0d45476",
      "metadata": {
        "id": "d0d45476"
      },
      "outputs": [],
      "source": [
        "# Dividing the data into independent and dependent variables\n",
        "X=churn_data.iloc[:,:-1]#independent data\n",
        "y=churn_data.iloc[:,-1]#target data"
      ]
    },
    {
      "cell_type": "code",
      "execution_count": null,
      "id": "d35eca8c",
      "metadata": {
        "id": "d35eca8c",
        "outputId": "5c128ae3-4005-44a9-8eb3-8692b36b0e90"
      },
      "outputs": [
        {
          "data": {
            "text/html": [
              "<div>\n",
              "<style scoped>\n",
              "    .dataframe tbody tr th:only-of-type {\n",
              "        vertical-align: middle;\n",
              "    }\n",
              "\n",
              "    .dataframe tbody tr th {\n",
              "        vertical-align: top;\n",
              "    }\n",
              "\n",
              "    .dataframe thead th {\n",
              "        text-align: right;\n",
              "    }\n",
              "</style>\n",
              "<table border=\"1\" class=\"dataframe\">\n",
              "  <thead>\n",
              "    <tr style=\"text-align: right;\">\n",
              "      <th></th>\n",
              "      <th>gender</th>\n",
              "      <th>SeniorCitizen</th>\n",
              "      <th>Partner</th>\n",
              "      <th>Dependents</th>\n",
              "      <th>tenure</th>\n",
              "      <th>PhoneService</th>\n",
              "      <th>MultipleLines</th>\n",
              "      <th>InternetService</th>\n",
              "      <th>OnlineSecurity</th>\n",
              "      <th>OnlineBackup</th>\n",
              "      <th>DeviceProtection</th>\n",
              "      <th>TechSupport</th>\n",
              "      <th>StreamingTV</th>\n",
              "      <th>StreamingMovies</th>\n",
              "      <th>Contract</th>\n",
              "      <th>PaperlessBilling</th>\n",
              "      <th>PaymentMethod</th>\n",
              "      <th>MonthlyCharges</th>\n",
              "      <th>TotalCharges</th>\n",
              "    </tr>\n",
              "  </thead>\n",
              "  <tbody>\n",
              "    <tr>\n",
              "      <th>0</th>\n",
              "      <td>0</td>\n",
              "      <td>0</td>\n",
              "      <td>1</td>\n",
              "      <td>0</td>\n",
              "      <td>1</td>\n",
              "      <td>0</td>\n",
              "      <td>1</td>\n",
              "      <td>0</td>\n",
              "      <td>0</td>\n",
              "      <td>2</td>\n",
              "      <td>0</td>\n",
              "      <td>0</td>\n",
              "      <td>0</td>\n",
              "      <td>0</td>\n",
              "      <td>0</td>\n",
              "      <td>1</td>\n",
              "      <td>2</td>\n",
              "      <td>29.85</td>\n",
              "      <td>29.85</td>\n",
              "    </tr>\n",
              "    <tr>\n",
              "      <th>1</th>\n",
              "      <td>1</td>\n",
              "      <td>0</td>\n",
              "      <td>0</td>\n",
              "      <td>0</td>\n",
              "      <td>34</td>\n",
              "      <td>1</td>\n",
              "      <td>0</td>\n",
              "      <td>0</td>\n",
              "      <td>2</td>\n",
              "      <td>0</td>\n",
              "      <td>2</td>\n",
              "      <td>0</td>\n",
              "      <td>0</td>\n",
              "      <td>0</td>\n",
              "      <td>1</td>\n",
              "      <td>0</td>\n",
              "      <td>3</td>\n",
              "      <td>56.95</td>\n",
              "      <td>1889.50</td>\n",
              "    </tr>\n",
              "    <tr>\n",
              "      <th>2</th>\n",
              "      <td>1</td>\n",
              "      <td>0</td>\n",
              "      <td>0</td>\n",
              "      <td>0</td>\n",
              "      <td>2</td>\n",
              "      <td>1</td>\n",
              "      <td>0</td>\n",
              "      <td>0</td>\n",
              "      <td>2</td>\n",
              "      <td>2</td>\n",
              "      <td>0</td>\n",
              "      <td>0</td>\n",
              "      <td>0</td>\n",
              "      <td>0</td>\n",
              "      <td>0</td>\n",
              "      <td>1</td>\n",
              "      <td>3</td>\n",
              "      <td>53.85</td>\n",
              "      <td>108.15</td>\n",
              "    </tr>\n",
              "    <tr>\n",
              "      <th>3</th>\n",
              "      <td>1</td>\n",
              "      <td>0</td>\n",
              "      <td>0</td>\n",
              "      <td>0</td>\n",
              "      <td>45</td>\n",
              "      <td>0</td>\n",
              "      <td>1</td>\n",
              "      <td>0</td>\n",
              "      <td>2</td>\n",
              "      <td>0</td>\n",
              "      <td>2</td>\n",
              "      <td>2</td>\n",
              "      <td>0</td>\n",
              "      <td>0</td>\n",
              "      <td>1</td>\n",
              "      <td>0</td>\n",
              "      <td>0</td>\n",
              "      <td>42.30</td>\n",
              "      <td>1840.75</td>\n",
              "    </tr>\n",
              "    <tr>\n",
              "      <th>4</th>\n",
              "      <td>0</td>\n",
              "      <td>0</td>\n",
              "      <td>0</td>\n",
              "      <td>0</td>\n",
              "      <td>2</td>\n",
              "      <td>1</td>\n",
              "      <td>0</td>\n",
              "      <td>1</td>\n",
              "      <td>0</td>\n",
              "      <td>0</td>\n",
              "      <td>0</td>\n",
              "      <td>0</td>\n",
              "      <td>0</td>\n",
              "      <td>0</td>\n",
              "      <td>0</td>\n",
              "      <td>1</td>\n",
              "      <td>2</td>\n",
              "      <td>70.70</td>\n",
              "      <td>151.65</td>\n",
              "    </tr>\n",
              "    <tr>\n",
              "      <th>...</th>\n",
              "      <td>...</td>\n",
              "      <td>...</td>\n",
              "      <td>...</td>\n",
              "      <td>...</td>\n",
              "      <td>...</td>\n",
              "      <td>...</td>\n",
              "      <td>...</td>\n",
              "      <td>...</td>\n",
              "      <td>...</td>\n",
              "      <td>...</td>\n",
              "      <td>...</td>\n",
              "      <td>...</td>\n",
              "      <td>...</td>\n",
              "      <td>...</td>\n",
              "      <td>...</td>\n",
              "      <td>...</td>\n",
              "      <td>...</td>\n",
              "      <td>...</td>\n",
              "      <td>...</td>\n",
              "    </tr>\n",
              "    <tr>\n",
              "      <th>7038</th>\n",
              "      <td>1</td>\n",
              "      <td>0</td>\n",
              "      <td>1</td>\n",
              "      <td>1</td>\n",
              "      <td>24</td>\n",
              "      <td>1</td>\n",
              "      <td>2</td>\n",
              "      <td>0</td>\n",
              "      <td>2</td>\n",
              "      <td>0</td>\n",
              "      <td>2</td>\n",
              "      <td>2</td>\n",
              "      <td>2</td>\n",
              "      <td>2</td>\n",
              "      <td>1</td>\n",
              "      <td>1</td>\n",
              "      <td>3</td>\n",
              "      <td>84.80</td>\n",
              "      <td>1990.50</td>\n",
              "    </tr>\n",
              "    <tr>\n",
              "      <th>7039</th>\n",
              "      <td>0</td>\n",
              "      <td>0</td>\n",
              "      <td>1</td>\n",
              "      <td>1</td>\n",
              "      <td>72</td>\n",
              "      <td>1</td>\n",
              "      <td>2</td>\n",
              "      <td>1</td>\n",
              "      <td>0</td>\n",
              "      <td>2</td>\n",
              "      <td>2</td>\n",
              "      <td>0</td>\n",
              "      <td>2</td>\n",
              "      <td>2</td>\n",
              "      <td>1</td>\n",
              "      <td>1</td>\n",
              "      <td>1</td>\n",
              "      <td>103.20</td>\n",
              "      <td>7362.90</td>\n",
              "    </tr>\n",
              "    <tr>\n",
              "      <th>7040</th>\n",
              "      <td>0</td>\n",
              "      <td>0</td>\n",
              "      <td>1</td>\n",
              "      <td>1</td>\n",
              "      <td>11</td>\n",
              "      <td>0</td>\n",
              "      <td>1</td>\n",
              "      <td>0</td>\n",
              "      <td>2</td>\n",
              "      <td>0</td>\n",
              "      <td>0</td>\n",
              "      <td>0</td>\n",
              "      <td>0</td>\n",
              "      <td>0</td>\n",
              "      <td>0</td>\n",
              "      <td>1</td>\n",
              "      <td>2</td>\n",
              "      <td>29.60</td>\n",
              "      <td>346.45</td>\n",
              "    </tr>\n",
              "    <tr>\n",
              "      <th>7041</th>\n",
              "      <td>1</td>\n",
              "      <td>1</td>\n",
              "      <td>1</td>\n",
              "      <td>0</td>\n",
              "      <td>4</td>\n",
              "      <td>1</td>\n",
              "      <td>2</td>\n",
              "      <td>1</td>\n",
              "      <td>0</td>\n",
              "      <td>0</td>\n",
              "      <td>0</td>\n",
              "      <td>0</td>\n",
              "      <td>0</td>\n",
              "      <td>0</td>\n",
              "      <td>0</td>\n",
              "      <td>1</td>\n",
              "      <td>3</td>\n",
              "      <td>74.40</td>\n",
              "      <td>306.60</td>\n",
              "    </tr>\n",
              "    <tr>\n",
              "      <th>7042</th>\n",
              "      <td>1</td>\n",
              "      <td>0</td>\n",
              "      <td>0</td>\n",
              "      <td>0</td>\n",
              "      <td>66</td>\n",
              "      <td>1</td>\n",
              "      <td>0</td>\n",
              "      <td>1</td>\n",
              "      <td>2</td>\n",
              "      <td>0</td>\n",
              "      <td>2</td>\n",
              "      <td>2</td>\n",
              "      <td>2</td>\n",
              "      <td>2</td>\n",
              "      <td>2</td>\n",
              "      <td>1</td>\n",
              "      <td>0</td>\n",
              "      <td>105.65</td>\n",
              "      <td>6844.50</td>\n",
              "    </tr>\n",
              "  </tbody>\n",
              "</table>\n",
              "<p>7032 rows × 19 columns</p>\n",
              "</div>"
            ],
            "text/plain": [
              "      gender  SeniorCitizen  Partner  Dependents  tenure  PhoneService  \\\n",
              "0          0              0        1           0       1             0   \n",
              "1          1              0        0           0      34             1   \n",
              "2          1              0        0           0       2             1   \n",
              "3          1              0        0           0      45             0   \n",
              "4          0              0        0           0       2             1   \n",
              "...      ...            ...      ...         ...     ...           ...   \n",
              "7038       1              0        1           1      24             1   \n",
              "7039       0              0        1           1      72             1   \n",
              "7040       0              0        1           1      11             0   \n",
              "7041       1              1        1           0       4             1   \n",
              "7042       1              0        0           0      66             1   \n",
              "\n",
              "      MultipleLines  InternetService  OnlineSecurity  OnlineBackup  \\\n",
              "0                 1                0               0             2   \n",
              "1                 0                0               2             0   \n",
              "2                 0                0               2             2   \n",
              "3                 1                0               2             0   \n",
              "4                 0                1               0             0   \n",
              "...             ...              ...             ...           ...   \n",
              "7038              2                0               2             0   \n",
              "7039              2                1               0             2   \n",
              "7040              1                0               2             0   \n",
              "7041              2                1               0             0   \n",
              "7042              0                1               2             0   \n",
              "\n",
              "      DeviceProtection  TechSupport  StreamingTV  StreamingMovies  Contract  \\\n",
              "0                    0            0            0                0         0   \n",
              "1                    2            0            0                0         1   \n",
              "2                    0            0            0                0         0   \n",
              "3                    2            2            0                0         1   \n",
              "4                    0            0            0                0         0   \n",
              "...                ...          ...          ...              ...       ...   \n",
              "7038                 2            2            2                2         1   \n",
              "7039                 2            0            2                2         1   \n",
              "7040                 0            0            0                0         0   \n",
              "7041                 0            0            0                0         0   \n",
              "7042                 2            2            2                2         2   \n",
              "\n",
              "      PaperlessBilling  PaymentMethod  MonthlyCharges  TotalCharges  \n",
              "0                    1              2           29.85         29.85  \n",
              "1                    0              3           56.95       1889.50  \n",
              "2                    1              3           53.85        108.15  \n",
              "3                    0              0           42.30       1840.75  \n",
              "4                    1              2           70.70        151.65  \n",
              "...                ...            ...             ...           ...  \n",
              "7038                 1              3           84.80       1990.50  \n",
              "7039                 1              1          103.20       7362.90  \n",
              "7040                 1              2           29.60        346.45  \n",
              "7041                 1              3           74.40        306.60  \n",
              "7042                 1              0          105.65       6844.50  \n",
              "\n",
              "[7032 rows x 19 columns]"
            ]
          },
          "execution_count": 89,
          "metadata": {},
          "output_type": "execute_result"
        }
      ],
      "source": [
        "X"
      ]
    },
    {
      "cell_type": "code",
      "execution_count": null,
      "id": "39124a75",
      "metadata": {
        "id": "39124a75",
        "outputId": "89f43e79-d85d-4508-a88a-4633a418879e"
      },
      "outputs": [
        {
          "data": {
            "text/plain": [
              "0        No\n",
              "1        No\n",
              "2       Yes\n",
              "3        No\n",
              "4       Yes\n",
              "       ... \n",
              "7038     No\n",
              "7039     No\n",
              "7040     No\n",
              "7041    Yes\n",
              "7042     No\n",
              "Name: Churn, Length: 7032, dtype: object"
            ]
          },
          "execution_count": 90,
          "metadata": {},
          "output_type": "execute_result"
        }
      ],
      "source": [
        "y"
      ]
    },
    {
      "cell_type": "code",
      "execution_count": null,
      "id": "5d831f65",
      "metadata": {
        "id": "5d831f65"
      },
      "outputs": [],
      "source": [
        "#spliting the data to train and test\n",
        "X_train,X_test,y_train,y_test=train_test_split(X,y,test_size=0.2,random_state=42)\n",
        "# X_train,X_test,y_train,y_test=train_test_split(X,y,train_size=0.8,random_state=0)"
      ]
    },
    {
      "cell_type": "code",
      "execution_count": null,
      "id": "47eb96ab",
      "metadata": {
        "id": "47eb96ab"
      },
      "outputs": [],
      "source": [
        "# 1 2 3 4 5 6 7 8\n",
        "# 1 5 3\n",
        "# 2 1 7\n",
        "# Pattern --> Select only the even numbers\n",
        "# 2,4,6,8"
      ]
    },
    {
      "cell_type": "code",
      "execution_count": null,
      "id": "cf49e143",
      "metadata": {
        "id": "cf49e143",
        "outputId": "fa5cf921-f4fd-4975-92e5-7fa4f4511241"
      },
      "outputs": [
        {
          "data": {
            "text/html": [
              "<div>\n",
              "<style scoped>\n",
              "    .dataframe tbody tr th:only-of-type {\n",
              "        vertical-align: middle;\n",
              "    }\n",
              "\n",
              "    .dataframe tbody tr th {\n",
              "        vertical-align: top;\n",
              "    }\n",
              "\n",
              "    .dataframe thead th {\n",
              "        text-align: right;\n",
              "    }\n",
              "</style>\n",
              "<table border=\"1\" class=\"dataframe\">\n",
              "  <thead>\n",
              "    <tr style=\"text-align: right;\">\n",
              "      <th></th>\n",
              "      <th>gender</th>\n",
              "      <th>SeniorCitizen</th>\n",
              "      <th>Partner</th>\n",
              "      <th>Dependents</th>\n",
              "      <th>tenure</th>\n",
              "      <th>PhoneService</th>\n",
              "      <th>MultipleLines</th>\n",
              "      <th>InternetService</th>\n",
              "      <th>OnlineSecurity</th>\n",
              "      <th>OnlineBackup</th>\n",
              "      <th>DeviceProtection</th>\n",
              "      <th>TechSupport</th>\n",
              "      <th>StreamingTV</th>\n",
              "      <th>StreamingMovies</th>\n",
              "      <th>Contract</th>\n",
              "      <th>PaperlessBilling</th>\n",
              "      <th>PaymentMethod</th>\n",
              "      <th>MonthlyCharges</th>\n",
              "      <th>TotalCharges</th>\n",
              "    </tr>\n",
              "  </thead>\n",
              "  <tbody>\n",
              "    <tr>\n",
              "      <th>6030</th>\n",
              "      <td>0</td>\n",
              "      <td>0</td>\n",
              "      <td>0</td>\n",
              "      <td>0</td>\n",
              "      <td>43</td>\n",
              "      <td>0</td>\n",
              "      <td>1</td>\n",
              "      <td>0</td>\n",
              "      <td>0</td>\n",
              "      <td>0</td>\n",
              "      <td>2</td>\n",
              "      <td>0</td>\n",
              "      <td>2</td>\n",
              "      <td>2</td>\n",
              "      <td>0</td>\n",
              "      <td>1</td>\n",
              "      <td>0</td>\n",
              "      <td>49.05</td>\n",
              "      <td>2076.20</td>\n",
              "    </tr>\n",
              "    <tr>\n",
              "      <th>3410</th>\n",
              "      <td>1</td>\n",
              "      <td>0</td>\n",
              "      <td>0</td>\n",
              "      <td>0</td>\n",
              "      <td>3</td>\n",
              "      <td>1</td>\n",
              "      <td>0</td>\n",
              "      <td>0</td>\n",
              "      <td>0</td>\n",
              "      <td>0</td>\n",
              "      <td>0</td>\n",
              "      <td>0</td>\n",
              "      <td>2</td>\n",
              "      <td>0</td>\n",
              "      <td>0</td>\n",
              "      <td>0</td>\n",
              "      <td>1</td>\n",
              "      <td>53.40</td>\n",
              "      <td>188.70</td>\n",
              "    </tr>\n",
              "    <tr>\n",
              "      <th>5483</th>\n",
              "      <td>0</td>\n",
              "      <td>0</td>\n",
              "      <td>1</td>\n",
              "      <td>0</td>\n",
              "      <td>55</td>\n",
              "      <td>1</td>\n",
              "      <td>2</td>\n",
              "      <td>1</td>\n",
              "      <td>0</td>\n",
              "      <td>0</td>\n",
              "      <td>2</td>\n",
              "      <td>0</td>\n",
              "      <td>0</td>\n",
              "      <td>0</td>\n",
              "      <td>0</td>\n",
              "      <td>1</td>\n",
              "      <td>2</td>\n",
              "      <td>77.75</td>\n",
              "      <td>4458.15</td>\n",
              "    </tr>\n",
              "    <tr>\n",
              "      <th>5524</th>\n",
              "      <td>1</td>\n",
              "      <td>0</td>\n",
              "      <td>1</td>\n",
              "      <td>1</td>\n",
              "      <td>45</td>\n",
              "      <td>1</td>\n",
              "      <td>0</td>\n",
              "      <td>0</td>\n",
              "      <td>2</td>\n",
              "      <td>0</td>\n",
              "      <td>0</td>\n",
              "      <td>2</td>\n",
              "      <td>0</td>\n",
              "      <td>0</td>\n",
              "      <td>2</td>\n",
              "      <td>0</td>\n",
              "      <td>0</td>\n",
              "      <td>54.65</td>\n",
              "      <td>2553.70</td>\n",
              "    </tr>\n",
              "    <tr>\n",
              "      <th>6337</th>\n",
              "      <td>0</td>\n",
              "      <td>0</td>\n",
              "      <td>1</td>\n",
              "      <td>1</td>\n",
              "      <td>55</td>\n",
              "      <td>1</td>\n",
              "      <td>2</td>\n",
              "      <td>1</td>\n",
              "      <td>2</td>\n",
              "      <td>0</td>\n",
              "      <td>0</td>\n",
              "      <td>0</td>\n",
              "      <td>2</td>\n",
              "      <td>2</td>\n",
              "      <td>1</td>\n",
              "      <td>0</td>\n",
              "      <td>3</td>\n",
              "      <td>100.90</td>\n",
              "      <td>5448.60</td>\n",
              "    </tr>\n",
              "    <tr>\n",
              "      <th>...</th>\n",
              "      <td>...</td>\n",
              "      <td>...</td>\n",
              "      <td>...</td>\n",
              "      <td>...</td>\n",
              "      <td>...</td>\n",
              "      <td>...</td>\n",
              "      <td>...</td>\n",
              "      <td>...</td>\n",
              "      <td>...</td>\n",
              "      <td>...</td>\n",
              "      <td>...</td>\n",
              "      <td>...</td>\n",
              "      <td>...</td>\n",
              "      <td>...</td>\n",
              "      <td>...</td>\n",
              "      <td>...</td>\n",
              "      <td>...</td>\n",
              "      <td>...</td>\n",
              "      <td>...</td>\n",
              "    </tr>\n",
              "    <tr>\n",
              "      <th>3778</th>\n",
              "      <td>1</td>\n",
              "      <td>0</td>\n",
              "      <td>0</td>\n",
              "      <td>0</td>\n",
              "      <td>3</td>\n",
              "      <td>1</td>\n",
              "      <td>2</td>\n",
              "      <td>0</td>\n",
              "      <td>0</td>\n",
              "      <td>0</td>\n",
              "      <td>0</td>\n",
              "      <td>0</td>\n",
              "      <td>0</td>\n",
              "      <td>0</td>\n",
              "      <td>0</td>\n",
              "      <td>0</td>\n",
              "      <td>0</td>\n",
              "      <td>50.40</td>\n",
              "      <td>137.25</td>\n",
              "    </tr>\n",
              "    <tr>\n",
              "      <th>5199</th>\n",
              "      <td>0</td>\n",
              "      <td>0</td>\n",
              "      <td>0</td>\n",
              "      <td>0</td>\n",
              "      <td>51</td>\n",
              "      <td>1</td>\n",
              "      <td>2</td>\n",
              "      <td>1</td>\n",
              "      <td>0</td>\n",
              "      <td>2</td>\n",
              "      <td>2</td>\n",
              "      <td>2</td>\n",
              "      <td>2</td>\n",
              "      <td>2</td>\n",
              "      <td>1</td>\n",
              "      <td>1</td>\n",
              "      <td>2</td>\n",
              "      <td>111.50</td>\n",
              "      <td>5703.25</td>\n",
              "    </tr>\n",
              "    <tr>\n",
              "      <th>5235</th>\n",
              "      <td>1</td>\n",
              "      <td>0</td>\n",
              "      <td>0</td>\n",
              "      <td>0</td>\n",
              "      <td>9</td>\n",
              "      <td>1</td>\n",
              "      <td>2</td>\n",
              "      <td>1</td>\n",
              "      <td>2</td>\n",
              "      <td>0</td>\n",
              "      <td>0</td>\n",
              "      <td>0</td>\n",
              "      <td>0</td>\n",
              "      <td>0</td>\n",
              "      <td>0</td>\n",
              "      <td>1</td>\n",
              "      <td>2</td>\n",
              "      <td>81.15</td>\n",
              "      <td>784.45</td>\n",
              "    </tr>\n",
              "    <tr>\n",
              "      <th>5399</th>\n",
              "      <td>0</td>\n",
              "      <td>0</td>\n",
              "      <td>0</td>\n",
              "      <td>0</td>\n",
              "      <td>50</td>\n",
              "      <td>1</td>\n",
              "      <td>0</td>\n",
              "      <td>2</td>\n",
              "      <td>1</td>\n",
              "      <td>1</td>\n",
              "      <td>1</td>\n",
              "      <td>1</td>\n",
              "      <td>1</td>\n",
              "      <td>1</td>\n",
              "      <td>1</td>\n",
              "      <td>0</td>\n",
              "      <td>0</td>\n",
              "      <td>19.75</td>\n",
              "      <td>989.05</td>\n",
              "    </tr>\n",
              "    <tr>\n",
              "      <th>862</th>\n",
              "      <td>1</td>\n",
              "      <td>1</td>\n",
              "      <td>1</td>\n",
              "      <td>0</td>\n",
              "      <td>20</td>\n",
              "      <td>1</td>\n",
              "      <td>0</td>\n",
              "      <td>1</td>\n",
              "      <td>0</td>\n",
              "      <td>2</td>\n",
              "      <td>0</td>\n",
              "      <td>0</td>\n",
              "      <td>0</td>\n",
              "      <td>0</td>\n",
              "      <td>0</td>\n",
              "      <td>1</td>\n",
              "      <td>2</td>\n",
              "      <td>73.65</td>\n",
              "      <td>1463.50</td>\n",
              "    </tr>\n",
              "  </tbody>\n",
              "</table>\n",
              "<p>5625 rows × 19 columns</p>\n",
              "</div>"
            ],
            "text/plain": [
              "      gender  SeniorCitizen  Partner  Dependents  tenure  PhoneService  \\\n",
              "6030       0              0        0           0      43             0   \n",
              "3410       1              0        0           0       3             1   \n",
              "5483       0              0        1           0      55             1   \n",
              "5524       1              0        1           1      45             1   \n",
              "6337       0              0        1           1      55             1   \n",
              "...      ...            ...      ...         ...     ...           ...   \n",
              "3778       1              0        0           0       3             1   \n",
              "5199       0              0        0           0      51             1   \n",
              "5235       1              0        0           0       9             1   \n",
              "5399       0              0        0           0      50             1   \n",
              "862        1              1        1           0      20             1   \n",
              "\n",
              "      MultipleLines  InternetService  OnlineSecurity  OnlineBackup  \\\n",
              "6030              1                0               0             0   \n",
              "3410              0                0               0             0   \n",
              "5483              2                1               0             0   \n",
              "5524              0                0               2             0   \n",
              "6337              2                1               2             0   \n",
              "...             ...              ...             ...           ...   \n",
              "3778              2                0               0             0   \n",
              "5199              2                1               0             2   \n",
              "5235              2                1               2             0   \n",
              "5399              0                2               1             1   \n",
              "862               0                1               0             2   \n",
              "\n",
              "      DeviceProtection  TechSupport  StreamingTV  StreamingMovies  Contract  \\\n",
              "6030                 2            0            2                2         0   \n",
              "3410                 0            0            2                0         0   \n",
              "5483                 2            0            0                0         0   \n",
              "5524                 0            2            0                0         2   \n",
              "6337                 0            0            2                2         1   \n",
              "...                ...          ...          ...              ...       ...   \n",
              "3778                 0            0            0                0         0   \n",
              "5199                 2            2            2                2         1   \n",
              "5235                 0            0            0                0         0   \n",
              "5399                 1            1            1                1         1   \n",
              "862                  0            0            0                0         0   \n",
              "\n",
              "      PaperlessBilling  PaymentMethod  MonthlyCharges  TotalCharges  \n",
              "6030                 1              0           49.05       2076.20  \n",
              "3410                 0              1           53.40        188.70  \n",
              "5483                 1              2           77.75       4458.15  \n",
              "5524                 0              0           54.65       2553.70  \n",
              "6337                 0              3          100.90       5448.60  \n",
              "...                ...            ...             ...           ...  \n",
              "3778                 0              0           50.40        137.25  \n",
              "5199                 1              2          111.50       5703.25  \n",
              "5235                 1              2           81.15        784.45  \n",
              "5399                 0              0           19.75        989.05  \n",
              "862                  1              2           73.65       1463.50  \n",
              "\n",
              "[5625 rows x 19 columns]"
            ]
          },
          "execution_count": 127,
          "metadata": {},
          "output_type": "execute_result"
        }
      ],
      "source": [
        "X_train"
      ]
    },
    {
      "cell_type": "code",
      "execution_count": null,
      "id": "9729afe2",
      "metadata": {
        "id": "9729afe2",
        "outputId": "fda5f7b9-7d66-4879-f95d-dad239db092d"
      },
      "outputs": [
        {
          "data": {
            "text/plain": [
              "(5625, 19)"
            ]
          },
          "execution_count": 128,
          "metadata": {},
          "output_type": "execute_result"
        }
      ],
      "source": [
        "X_train.shape"
      ]
    },
    {
      "cell_type": "code",
      "execution_count": null,
      "id": "55bcba39",
      "metadata": {
        "id": "55bcba39",
        "outputId": "1a587531-78a0-4fa2-bcc1-a6291501e3cb"
      },
      "outputs": [
        {
          "data": {
            "text/plain": [
              "(5625,)"
            ]
          },
          "execution_count": 129,
          "metadata": {},
          "output_type": "execute_result"
        }
      ],
      "source": [
        "y_train.shape"
      ]
    },
    {
      "cell_type": "code",
      "execution_count": null,
      "id": "1697975c",
      "metadata": {
        "scrolled": true,
        "id": "1697975c",
        "outputId": "84ee3a94-381b-4466-f6ff-dd935c37fb06"
      },
      "outputs": [
        {
          "data": {
            "text/plain": [
              "(1407, 19)"
            ]
          },
          "execution_count": 130,
          "metadata": {},
          "output_type": "execute_result"
        }
      ],
      "source": [
        "X_test.shape"
      ]
    },
    {
      "cell_type": "code",
      "execution_count": null,
      "id": "035bf414",
      "metadata": {
        "id": "035bf414",
        "outputId": "3210502d-4d65-46bb-cd81-a76282bab499"
      },
      "outputs": [
        {
          "data": {
            "text/plain": [
              "(1407,)"
            ]
          },
          "execution_count": 131,
          "metadata": {},
          "output_type": "execute_result"
        }
      ],
      "source": [
        "y_test.shape"
      ]
    },
    {
      "cell_type": "code",
      "execution_count": null,
      "id": "65672eb9",
      "metadata": {
        "id": "65672eb9",
        "outputId": "9803a7d8-3b65-4145-f34d-29968f182459"
      },
      "outputs": [
        {
          "data": {
            "text/html": [
              "<div>\n",
              "<style scoped>\n",
              "    .dataframe tbody tr th:only-of-type {\n",
              "        vertical-align: middle;\n",
              "    }\n",
              "\n",
              "    .dataframe tbody tr th {\n",
              "        vertical-align: top;\n",
              "    }\n",
              "\n",
              "    .dataframe thead th {\n",
              "        text-align: right;\n",
              "    }\n",
              "</style>\n",
              "<table border=\"1\" class=\"dataframe\">\n",
              "  <thead>\n",
              "    <tr style=\"text-align: right;\">\n",
              "      <th></th>\n",
              "      <th>gender</th>\n",
              "      <th>SeniorCitizen</th>\n",
              "      <th>Partner</th>\n",
              "      <th>Dependents</th>\n",
              "      <th>tenure</th>\n",
              "      <th>PhoneService</th>\n",
              "      <th>MultipleLines</th>\n",
              "      <th>InternetService</th>\n",
              "      <th>OnlineSecurity</th>\n",
              "      <th>OnlineBackup</th>\n",
              "      <th>DeviceProtection</th>\n",
              "      <th>TechSupport</th>\n",
              "      <th>StreamingTV</th>\n",
              "      <th>StreamingMovies</th>\n",
              "      <th>Contract</th>\n",
              "      <th>PaperlessBilling</th>\n",
              "      <th>PaymentMethod</th>\n",
              "      <th>MonthlyCharges</th>\n",
              "      <th>TotalCharges</th>\n",
              "    </tr>\n",
              "  </thead>\n",
              "  <tbody>\n",
              "    <tr>\n",
              "      <th>6030</th>\n",
              "      <td>0</td>\n",
              "      <td>0</td>\n",
              "      <td>0</td>\n",
              "      <td>0</td>\n",
              "      <td>43</td>\n",
              "      <td>0</td>\n",
              "      <td>1</td>\n",
              "      <td>0</td>\n",
              "      <td>0</td>\n",
              "      <td>0</td>\n",
              "      <td>2</td>\n",
              "      <td>0</td>\n",
              "      <td>2</td>\n",
              "      <td>2</td>\n",
              "      <td>0</td>\n",
              "      <td>1</td>\n",
              "      <td>0</td>\n",
              "      <td>49.05</td>\n",
              "      <td>2076.20</td>\n",
              "    </tr>\n",
              "    <tr>\n",
              "      <th>3410</th>\n",
              "      <td>1</td>\n",
              "      <td>0</td>\n",
              "      <td>0</td>\n",
              "      <td>0</td>\n",
              "      <td>3</td>\n",
              "      <td>1</td>\n",
              "      <td>0</td>\n",
              "      <td>0</td>\n",
              "      <td>0</td>\n",
              "      <td>0</td>\n",
              "      <td>0</td>\n",
              "      <td>0</td>\n",
              "      <td>2</td>\n",
              "      <td>0</td>\n",
              "      <td>0</td>\n",
              "      <td>0</td>\n",
              "      <td>1</td>\n",
              "      <td>53.40</td>\n",
              "      <td>188.70</td>\n",
              "    </tr>\n",
              "    <tr>\n",
              "      <th>5483</th>\n",
              "      <td>0</td>\n",
              "      <td>0</td>\n",
              "      <td>1</td>\n",
              "      <td>0</td>\n",
              "      <td>55</td>\n",
              "      <td>1</td>\n",
              "      <td>2</td>\n",
              "      <td>1</td>\n",
              "      <td>0</td>\n",
              "      <td>0</td>\n",
              "      <td>2</td>\n",
              "      <td>0</td>\n",
              "      <td>0</td>\n",
              "      <td>0</td>\n",
              "      <td>0</td>\n",
              "      <td>1</td>\n",
              "      <td>2</td>\n",
              "      <td>77.75</td>\n",
              "      <td>4458.15</td>\n",
              "    </tr>\n",
              "    <tr>\n",
              "      <th>5524</th>\n",
              "      <td>1</td>\n",
              "      <td>0</td>\n",
              "      <td>1</td>\n",
              "      <td>1</td>\n",
              "      <td>45</td>\n",
              "      <td>1</td>\n",
              "      <td>0</td>\n",
              "      <td>0</td>\n",
              "      <td>2</td>\n",
              "      <td>0</td>\n",
              "      <td>0</td>\n",
              "      <td>2</td>\n",
              "      <td>0</td>\n",
              "      <td>0</td>\n",
              "      <td>2</td>\n",
              "      <td>0</td>\n",
              "      <td>0</td>\n",
              "      <td>54.65</td>\n",
              "      <td>2553.70</td>\n",
              "    </tr>\n",
              "    <tr>\n",
              "      <th>6337</th>\n",
              "      <td>0</td>\n",
              "      <td>0</td>\n",
              "      <td>1</td>\n",
              "      <td>1</td>\n",
              "      <td>55</td>\n",
              "      <td>1</td>\n",
              "      <td>2</td>\n",
              "      <td>1</td>\n",
              "      <td>2</td>\n",
              "      <td>0</td>\n",
              "      <td>0</td>\n",
              "      <td>0</td>\n",
              "      <td>2</td>\n",
              "      <td>2</td>\n",
              "      <td>1</td>\n",
              "      <td>0</td>\n",
              "      <td>3</td>\n",
              "      <td>100.90</td>\n",
              "      <td>5448.60</td>\n",
              "    </tr>\n",
              "    <tr>\n",
              "      <th>...</th>\n",
              "      <td>...</td>\n",
              "      <td>...</td>\n",
              "      <td>...</td>\n",
              "      <td>...</td>\n",
              "      <td>...</td>\n",
              "      <td>...</td>\n",
              "      <td>...</td>\n",
              "      <td>...</td>\n",
              "      <td>...</td>\n",
              "      <td>...</td>\n",
              "      <td>...</td>\n",
              "      <td>...</td>\n",
              "      <td>...</td>\n",
              "      <td>...</td>\n",
              "      <td>...</td>\n",
              "      <td>...</td>\n",
              "      <td>...</td>\n",
              "      <td>...</td>\n",
              "      <td>...</td>\n",
              "    </tr>\n",
              "    <tr>\n",
              "      <th>3778</th>\n",
              "      <td>1</td>\n",
              "      <td>0</td>\n",
              "      <td>0</td>\n",
              "      <td>0</td>\n",
              "      <td>3</td>\n",
              "      <td>1</td>\n",
              "      <td>2</td>\n",
              "      <td>0</td>\n",
              "      <td>0</td>\n",
              "      <td>0</td>\n",
              "      <td>0</td>\n",
              "      <td>0</td>\n",
              "      <td>0</td>\n",
              "      <td>0</td>\n",
              "      <td>0</td>\n",
              "      <td>0</td>\n",
              "      <td>0</td>\n",
              "      <td>50.40</td>\n",
              "      <td>137.25</td>\n",
              "    </tr>\n",
              "    <tr>\n",
              "      <th>5199</th>\n",
              "      <td>0</td>\n",
              "      <td>0</td>\n",
              "      <td>0</td>\n",
              "      <td>0</td>\n",
              "      <td>51</td>\n",
              "      <td>1</td>\n",
              "      <td>2</td>\n",
              "      <td>1</td>\n",
              "      <td>0</td>\n",
              "      <td>2</td>\n",
              "      <td>2</td>\n",
              "      <td>2</td>\n",
              "      <td>2</td>\n",
              "      <td>2</td>\n",
              "      <td>1</td>\n",
              "      <td>1</td>\n",
              "      <td>2</td>\n",
              "      <td>111.50</td>\n",
              "      <td>5703.25</td>\n",
              "    </tr>\n",
              "    <tr>\n",
              "      <th>5235</th>\n",
              "      <td>1</td>\n",
              "      <td>0</td>\n",
              "      <td>0</td>\n",
              "      <td>0</td>\n",
              "      <td>9</td>\n",
              "      <td>1</td>\n",
              "      <td>2</td>\n",
              "      <td>1</td>\n",
              "      <td>2</td>\n",
              "      <td>0</td>\n",
              "      <td>0</td>\n",
              "      <td>0</td>\n",
              "      <td>0</td>\n",
              "      <td>0</td>\n",
              "      <td>0</td>\n",
              "      <td>1</td>\n",
              "      <td>2</td>\n",
              "      <td>81.15</td>\n",
              "      <td>784.45</td>\n",
              "    </tr>\n",
              "    <tr>\n",
              "      <th>5399</th>\n",
              "      <td>0</td>\n",
              "      <td>0</td>\n",
              "      <td>0</td>\n",
              "      <td>0</td>\n",
              "      <td>50</td>\n",
              "      <td>1</td>\n",
              "      <td>0</td>\n",
              "      <td>2</td>\n",
              "      <td>1</td>\n",
              "      <td>1</td>\n",
              "      <td>1</td>\n",
              "      <td>1</td>\n",
              "      <td>1</td>\n",
              "      <td>1</td>\n",
              "      <td>1</td>\n",
              "      <td>0</td>\n",
              "      <td>0</td>\n",
              "      <td>19.75</td>\n",
              "      <td>989.05</td>\n",
              "    </tr>\n",
              "    <tr>\n",
              "      <th>862</th>\n",
              "      <td>1</td>\n",
              "      <td>1</td>\n",
              "      <td>1</td>\n",
              "      <td>0</td>\n",
              "      <td>20</td>\n",
              "      <td>1</td>\n",
              "      <td>0</td>\n",
              "      <td>1</td>\n",
              "      <td>0</td>\n",
              "      <td>2</td>\n",
              "      <td>0</td>\n",
              "      <td>0</td>\n",
              "      <td>0</td>\n",
              "      <td>0</td>\n",
              "      <td>0</td>\n",
              "      <td>1</td>\n",
              "      <td>2</td>\n",
              "      <td>73.65</td>\n",
              "      <td>1463.50</td>\n",
              "    </tr>\n",
              "  </tbody>\n",
              "</table>\n",
              "<p>5625 rows × 19 columns</p>\n",
              "</div>"
            ],
            "text/plain": [
              "      gender  SeniorCitizen  Partner  Dependents  tenure  PhoneService  \\\n",
              "6030       0              0        0           0      43             0   \n",
              "3410       1              0        0           0       3             1   \n",
              "5483       0              0        1           0      55             1   \n",
              "5524       1              0        1           1      45             1   \n",
              "6337       0              0        1           1      55             1   \n",
              "...      ...            ...      ...         ...     ...           ...   \n",
              "3778       1              0        0           0       3             1   \n",
              "5199       0              0        0           0      51             1   \n",
              "5235       1              0        0           0       9             1   \n",
              "5399       0              0        0           0      50             1   \n",
              "862        1              1        1           0      20             1   \n",
              "\n",
              "      MultipleLines  InternetService  OnlineSecurity  OnlineBackup  \\\n",
              "6030              1                0               0             0   \n",
              "3410              0                0               0             0   \n",
              "5483              2                1               0             0   \n",
              "5524              0                0               2             0   \n",
              "6337              2                1               2             0   \n",
              "...             ...              ...             ...           ...   \n",
              "3778              2                0               0             0   \n",
              "5199              2                1               0             2   \n",
              "5235              2                1               2             0   \n",
              "5399              0                2               1             1   \n",
              "862               0                1               0             2   \n",
              "\n",
              "      DeviceProtection  TechSupport  StreamingTV  StreamingMovies  Contract  \\\n",
              "6030                 2            0            2                2         0   \n",
              "3410                 0            0            2                0         0   \n",
              "5483                 2            0            0                0         0   \n",
              "5524                 0            2            0                0         2   \n",
              "6337                 0            0            2                2         1   \n",
              "...                ...          ...          ...              ...       ...   \n",
              "3778                 0            0            0                0         0   \n",
              "5199                 2            2            2                2         1   \n",
              "5235                 0            0            0                0         0   \n",
              "5399                 1            1            1                1         1   \n",
              "862                  0            0            0                0         0   \n",
              "\n",
              "      PaperlessBilling  PaymentMethod  MonthlyCharges  TotalCharges  \n",
              "6030                 1              0           49.05       2076.20  \n",
              "3410                 0              1           53.40        188.70  \n",
              "5483                 1              2           77.75       4458.15  \n",
              "5524                 0              0           54.65       2553.70  \n",
              "6337                 0              3          100.90       5448.60  \n",
              "...                ...            ...             ...           ...  \n",
              "3778                 0              0           50.40        137.25  \n",
              "5199                 1              2          111.50       5703.25  \n",
              "5235                 1              2           81.15        784.45  \n",
              "5399                 0              0           19.75        989.05  \n",
              "862                  1              2           73.65       1463.50  \n",
              "\n",
              "[5625 rows x 19 columns]"
            ]
          },
          "execution_count": 132,
          "metadata": {},
          "output_type": "execute_result"
        }
      ],
      "source": [
        "X_train"
      ]
    },
    {
      "cell_type": "code",
      "execution_count": null,
      "id": "f2a03159",
      "metadata": {
        "id": "f2a03159"
      },
      "outputs": [],
      "source": [
        "# Build the random forest model\n",
        "classifier1=RandomForestClassifier(n_estimators=500) # No. of decision trees = 500\n",
        "classifier1.fit(X_train,y_train) # feeding the data for training, studying for the exam\n",
        "y_pred1=classifier1.predict(X_test) # predictions for testing data, the answers that you write in exam"
      ]
    },
    {
      "cell_type": "code",
      "execution_count": null,
      "id": "981142a8",
      "metadata": {
        "id": "981142a8",
        "outputId": "f75fbd46-b2fa-4a56-c6d4-3d1a9385600c"
      },
      "outputs": [
        {
          "data": {
            "text/plain": [
              "array(['No', 'No', 'Yes', ..., 'No', 'No', 'No'], dtype=object)"
            ]
          },
          "execution_count": 134,
          "metadata": {},
          "output_type": "execute_result"
        }
      ],
      "source": [
        "y_pred1"
      ]
    },
    {
      "cell_type": "code",
      "execution_count": null,
      "id": "eba6c61c",
      "metadata": {
        "id": "eba6c61c",
        "outputId": "7f7facec-0f6d-4e5d-e307-a4b3dbaa1524"
      },
      "outputs": [
        {
          "data": {
            "text/plain": [
              "2481     No\n",
              "6784     No\n",
              "6125    Yes\n",
              "3052     No\n",
              "4099     No\n",
              "       ... \n",
              "1733     No\n",
              "5250     No\n",
              "5465     No\n",
              "5851     No\n",
              "3984     No\n",
              "Name: Churn, Length: 1407, dtype: object"
            ]
          },
          "execution_count": 135,
          "metadata": {},
          "output_type": "execute_result"
        }
      ],
      "source": [
        "y_test # The actual answers available to the teacher"
      ]
    },
    {
      "cell_type": "code",
      "execution_count": null,
      "id": "8454b8ef",
      "metadata": {
        "id": "8454b8ef"
      },
      "outputs": [],
      "source": [
        "from sklearn import tree"
      ]
    },
    {
      "cell_type": "code",
      "execution_count": null,
      "id": "e8f9fc42",
      "metadata": {
        "id": "e8f9fc42"
      },
      "outputs": [],
      "source": [
        "# tree.plot_tree(classifier1,feature_names=X.columns,class_names='churn',filled=True)"
      ]
    },
    {
      "cell_type": "code",
      "execution_count": null,
      "id": "3adae325",
      "metadata": {
        "id": "3adae325"
      },
      "outputs": [],
      "source": []
    },
    {
      "cell_type": "code",
      "execution_count": null,
      "id": "fd502534",
      "metadata": {
        "id": "fd502534"
      },
      "outputs": [],
      "source": [
        "c1=confusion_matrix(y_test,y_pred1)"
      ]
    },
    {
      "cell_type": "code",
      "execution_count": null,
      "id": "972d53f0",
      "metadata": {
        "id": "972d53f0",
        "outputId": "6d3953c4-4dc8-4f5b-b126-3d43d51aa0e4"
      },
      "outputs": [
        {
          "name": "stdout",
          "output_type": "stream",
          "text": [
            "[[927 106]\n",
            " [200 174]]\n"
          ]
        }
      ],
      "source": [
        "print(c1)"
      ]
    },
    {
      "cell_type": "code",
      "execution_count": null,
      "id": "54418483",
      "metadata": {
        "id": "54418483"
      },
      "outputs": [],
      "source": [
        "# TP --> 931\n",
        "# FP --> 107\n",
        "# FN --> 193\n",
        "# TN --> 176"
      ]
    },
    {
      "cell_type": "code",
      "execution_count": null,
      "id": "9c2114ad",
      "metadata": {
        "id": "9c2114ad"
      },
      "outputs": [],
      "source": [
        "a1=accuracy_score(y_test,y_pred1)"
      ]
    },
    {
      "cell_type": "code",
      "execution_count": null,
      "id": "a704eb2c",
      "metadata": {
        "id": "a704eb2c",
        "outputId": "83d99fc0-1533-4754-8ea1-e03656130421"
      },
      "outputs": [
        {
          "name": "stdout",
          "output_type": "stream",
          "text": [
            "0.7825159914712153\n"
          ]
        }
      ],
      "source": [
        "print(a1)"
      ]
    },
    {
      "cell_type": "code",
      "execution_count": null,
      "id": "ccd8eff9",
      "metadata": {
        "id": "ccd8eff9"
      },
      "outputs": [],
      "source": [
        "X_train,X_test,y_train,y_test=train_test_split(X,y,test_size=0.2,random_state=0)"
      ]
    },
    {
      "cell_type": "code",
      "execution_count": null,
      "id": "da9633e2",
      "metadata": {
        "id": "da9633e2",
        "outputId": "4680f350-0f53-4e27-c35d-5ab0ef2521fd"
      },
      "outputs": [
        {
          "data": {
            "text/plain": [
              "[0.7938877043354655,\n",
              " 0.7860696517412935,\n",
              " 0.7924662402274343,\n",
              " 0.7903340440653873,\n",
              " 0.7910447761194029,\n",
              " 0.7889125799573561,\n",
              " 0.7860696517412935,\n",
              " 0.7917555081734187,\n",
              " 0.7889125799573561,\n",
              " 0.7903340440653873]"
            ]
          },
          "execution_count": 154,
          "metadata": {},
          "output_type": "execute_result"
        }
      ],
      "source": [
        "n=[100,200,300,400,500,600,700,800,900,1000]\n",
        "accuracy_l=[]\n",
        "for i in n:\n",
        "    model=RandomForestClassifier(n_estimators=i)\n",
        "    model.fit(X_train,y_train)\n",
        "    pred=model.predict(X_test)\n",
        "    a=accuracy_score(y_test,pred)\n",
        "    accuracy_l.append(a)\n",
        "accuracy_l"
      ]
    },
    {
      "cell_type": "code",
      "execution_count": null,
      "id": "995a9e13",
      "metadata": {
        "id": "995a9e13",
        "outputId": "e34b195a-3693-430d-91ed-295aba3a8118"
      },
      "outputs": [
        {
          "name": "stdout",
          "output_type": "stream",
          "text": [
            "   Number of trees  Accuracy\n",
            "0              100  0.793888\n",
            "1              200  0.786070\n",
            "2              300  0.792466\n",
            "3              400  0.790334\n",
            "4              500  0.791045\n",
            "5              600  0.788913\n",
            "6              700  0.786070\n",
            "7              800  0.791756\n",
            "8              900  0.788913\n",
            "9             1000  0.790334\n"
          ]
        }
      ],
      "source": [
        "d={\"Number of trees\":n,\"Accuracy\":accuracy_l}\n",
        "df=pd.DataFrame(d)\n",
        "print(df)"
      ]
    },
    {
      "cell_type": "code",
      "execution_count": null,
      "id": "bb989f77",
      "metadata": {
        "id": "bb989f77",
        "outputId": "cdba5461-0a7c-453d-f390-044491d91c3b"
      },
      "outputs": [
        {
          "data": {
            "text/plain": [
              "0.7938877043354655"
            ]
          },
          "execution_count": 156,
          "metadata": {},
          "output_type": "execute_result"
        }
      ],
      "source": [
        "max(accuracy_l)"
      ]
    },
    {
      "cell_type": "code",
      "execution_count": null,
      "id": "296a42b4",
      "metadata": {
        "id": "296a42b4",
        "outputId": "c64a5598-25b3-4fb6-fd4f-06e22d5cf5d1"
      },
      "outputs": [
        {
          "data": {
            "text/plain": [
              "0.7953091684434968"
            ]
          },
          "execution_count": 158,
          "metadata": {},
          "output_type": "execute_result"
        }
      ],
      "source": [
        "model=RandomForestClassifier(n_estimators=100)\n",
        "model.fit(X_train,y_train)\n",
        "y_pred = model.predict(X_test)\n",
        "accuracy_score(y_test, y_pred)"
      ]
    },
    {
      "cell_type": "code",
      "execution_count": null,
      "id": "3d27bbb3",
      "metadata": {
        "id": "3d27bbb3",
        "outputId": "ba73bbdb-058e-4b83-b5b4-77a248911fd4"
      },
      "outputs": [
        {
          "name": "stdout",
          "output_type": "stream",
          "text": [
            "              precision    recall  f1-score   support\n",
            "\n",
            "          No       0.90      0.83      0.87      1120\n",
            "         Yes       0.50      0.64      0.56       287\n",
            "\n",
            "    accuracy                           0.80      1407\n",
            "   macro avg       0.70      0.74      0.71      1407\n",
            "weighted avg       0.82      0.80      0.80      1407\n",
            "\n"
          ]
        }
      ],
      "source": [
        "from sklearn.metrics import classification_report\n",
        "print(classification_report(y_pred,y_test))"
      ]
    },
    {
      "cell_type": "code",
      "execution_count": null,
      "id": "1f1df2df",
      "metadata": {
        "id": "1f1df2df"
      },
      "outputs": [],
      "source": [
        "# Precision --> Correct predictions(1) --> TP/TP+FP\n",
        "# Recall --> How many no. of times the model has predicted correctly, correct true pred --> TP/TP+FN\n",
        "# F-1 score --> The average of precision and recall.\n",
        "# Support --> How many no. of times No/Yes has appeared in the predictions."
      ]
    },
    {
      "cell_type": "code",
      "execution_count": null,
      "id": "c51d8264",
      "metadata": {
        "id": "c51d8264"
      },
      "outputs": [],
      "source": [
        "\n"
      ]
    },
    {
      "cell_type": "code",
      "execution_count": null,
      "id": "414d8f1d",
      "metadata": {
        "id": "414d8f1d"
      },
      "outputs": [],
      "source": []
    }
  ],
  "metadata": {
    "kernelspec": {
      "display_name": "Python 3 (ipykernel)",
      "language": "python",
      "name": "python3"
    },
    "language_info": {
      "codemirror_mode": {
        "name": "ipython",
        "version": 3
      },
      "file_extension": ".py",
      "mimetype": "text/x-python",
      "name": "python",
      "nbconvert_exporter": "python",
      "pygments_lexer": "ipython3",
      "version": "3.10.9"
    },
    "colab": {
      "provenance": []
    }
  },
  "nbformat": 4,
  "nbformat_minor": 5
}